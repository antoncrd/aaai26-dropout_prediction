{
 "cells": [
  {
   "cell_type": "code",
   "execution_count": 32,
   "id": "8e30c23a",
   "metadata": {},
   "outputs": [],
   "source": [
    "%run portugal_functions.py"
   ]
  },
  {
   "cell_type": "code",
   "execution_count": 27,
   "id": "56bc2e25",
   "metadata": {},
   "outputs": [],
   "source": [
    "import numpy as np\n",
    "import pandas as pd\n",
    "from sklearn.cluster import KMeans\n",
    "from sklearn.preprocessing import StandardScaler\n",
    "from tqdm import tqdm\n",
    "from ctgan import CTGAN\n",
    "from mapie.metrics import (\n",
    "    classification_coverage_score,\n",
    "    classification_mean_width_score\n",
    ")\n",
    "from sklearn.base import clone\n",
    "from sklearn.ensemble import RandomForestClassifier, GradientBoostingClassifier\n",
    "from sklearn.linear_model import LogisticRegression\n",
    "\n",
    "from sklearn.calibration import CalibratedClassifierCV\n",
    "from typing import Tuple, Dict, Union, List\n",
    "from mapie.classification import MapieClassifier\n",
    "from mapie.mondrian import MondrianCP\n",
    "from mapie.metrics import (\n",
    "    classification_coverage_score,\n",
    "    classification_mean_width_score\n",
    ")\n",
    "from sklearn.preprocessing import StandardScaler\n",
    "\n",
    "from sklearn.model_selection import train_test_split"
   ]
  },
  {
   "cell_type": "code",
   "execution_count": 3,
   "id": "f404c4b9",
   "metadata": {},
   "outputs": [],
   "source": [
    "df = pd.read_excel(\"comparative_data/data.xlsx\")"
   ]
  },
  {
   "cell_type": "code",
   "execution_count": 51,
   "id": "38654fa4",
   "metadata": {},
   "outputs": [],
   "source": [
    "df1 = df.copy()\n",
    "df1[\"source\"] = \"real\"\n",
    "df1 = df1.rename(columns={'Instrument':'email'})\n",
    "\n",
    "nb_nan_par_ligne = df1.isna().sum(axis=1)\n",
    "df1 = df1[ nb_nan_par_ligne != 46 ]"
   ]
  },
  {
   "cell_type": "code",
   "execution_count": 52,
   "id": "6a0b5b13",
   "metadata": {},
   "outputs": [],
   "source": [
    "item_cols = [c for c in df1.columns if c.startswith(\"Item\")]"
   ]
  },
  {
   "cell_type": "code",
   "execution_count": 6,
   "id": "e2ea1d46",
   "metadata": {},
   "outputs": [
    {
     "name": "stdout",
     "output_type": "stream",
     "text": [
      "0    122\n",
      "1    246\n",
      "2    117\n",
      "3    143\n",
      "4    229\n",
      "Name: count, dtype: int64\n"
     ]
    },
    {
     "name": "stderr",
     "output_type": "stream",
     "text": [
      "c:\\ProgramData\\anaconda3\\Lib\\site-packages\\sklearn\\cluster\\_kmeans.py:1429: UserWarning: KMeans is known to have a memory leak on Windows with MKL, when there are less chunks than available threads. You can avoid it by setting the environment variable OMP_NUM_THREADS=4.\n",
      "  warnings.warn(\n"
     ]
    }
   ],
   "source": [
    "n_clusters_simple = 5\n",
    "\n",
    "X = df1.copy()\n",
    "X = X.drop(columns=['email', 'dropout', 'source'] + item_cols).fillna(0)\n",
    "scaler = StandardScaler()\n",
    "X_scaled = scaler.fit_transform(X)\n",
    "kmeans = KMeans(n_clusters=n_clusters_simple, random_state=42)\n",
    "clusters = kmeans.fit_predict(X_scaled)\n",
    "df2 = df1.copy()\n",
    "df2['cluster'] = clusters\n",
    "print(pd.Series(clusters).value_counts().sort_index())"
   ]
  },
  {
   "cell_type": "code",
   "execution_count": 7,
   "id": "f2ca98f9",
   "metadata": {},
   "outputs": [],
   "source": [
    "# SMOTE\n",
    "n_by_cluster_min = 100\n",
    "k_neighbors = 20\n",
    "\n",
    "df4 = oversample_minority_clusters(\n",
    "    df2,\n",
    "    item_cols,\n",
    "    n_by_cluster_min=n_by_cluster_min,\n",
    "    k_neighbors=k_neighbors,\n",
    "    cluster_col='cluster',\n",
    "    drop_cols=['email', 'source']\n",
    ")"
   ]
  },
  {
   "cell_type": "code",
   "execution_count": null,
   "id": "609f1433",
   "metadata": {},
   "outputs": [
    {
     "name": "stderr",
     "output_type": "stream",
     "text": [
      "Gen. (-2.24) | Discrim. (0.44):   2%|▏         | 6/300 [00:15<12:30,  2.55s/it] \n"
     ]
    },
    {
     "ename": "KeyboardInterrupt",
     "evalue": "",
     "output_type": "error",
     "traceback": [
      "\u001b[1;31m---------------------------------------------------------------------------\u001b[0m",
      "\u001b[1;31mKeyboardInterrupt\u001b[0m                         Traceback (most recent call last)",
      "Cell \u001b[1;32mIn[22], line 22\u001b[0m\n\u001b[0;32m     20\u001b[0m X \u001b[38;5;241m=\u001b[39m df1\u001b[38;5;241m.\u001b[39mcopy()\n\u001b[0;32m     21\u001b[0m X \u001b[38;5;241m=\u001b[39m X\u001b[38;5;241m.\u001b[39mdrop(columns\u001b[38;5;241m=\u001b[39m[\u001b[38;5;124m'\u001b[39m\u001b[38;5;124memail\u001b[39m\u001b[38;5;124m'\u001b[39m, \u001b[38;5;124m'\u001b[39m\u001b[38;5;124msource\u001b[39m\u001b[38;5;124m'\u001b[39m])\u001b[38;5;241m.\u001b[39mfillna(\u001b[38;5;241m0\u001b[39m)\n\u001b[1;32m---> 22\u001b[0m ctgan\u001b[38;5;241m.\u001b[39mfit(X)\n\u001b[0;32m     24\u001b[0m synthetic_data \u001b[38;5;241m=\u001b[39m ctgan\u001b[38;5;241m.\u001b[39msample(n_samples)\n\u001b[0;32m     25\u001b[0m synt\n",
      "File \u001b[1;32m~\\AppData\\Roaming\\Python\\Python312\\site-packages\\ctgan\\synthesizers\\base.py:50\u001b[0m, in \u001b[0;36mrandom_state.<locals>.wrapper\u001b[1;34m(self, *args, **kwargs)\u001b[0m\n\u001b[0;32m     48\u001b[0m \u001b[38;5;28;01mdef\u001b[39;00m \u001b[38;5;21mwrapper\u001b[39m(\u001b[38;5;28mself\u001b[39m, \u001b[38;5;241m*\u001b[39margs, \u001b[38;5;241m*\u001b[39m\u001b[38;5;241m*\u001b[39mkwargs):\n\u001b[0;32m     49\u001b[0m     \u001b[38;5;28;01mif\u001b[39;00m \u001b[38;5;28mself\u001b[39m\u001b[38;5;241m.\u001b[39mrandom_states \u001b[38;5;129;01mis\u001b[39;00m \u001b[38;5;28;01mNone\u001b[39;00m:\n\u001b[1;32m---> 50\u001b[0m         \u001b[38;5;28;01mreturn\u001b[39;00m function(\u001b[38;5;28mself\u001b[39m, \u001b[38;5;241m*\u001b[39margs, \u001b[38;5;241m*\u001b[39m\u001b[38;5;241m*\u001b[39mkwargs)\n\u001b[0;32m     52\u001b[0m     \u001b[38;5;28;01melse\u001b[39;00m:\n\u001b[0;32m     53\u001b[0m         \u001b[38;5;28;01mwith\u001b[39;00m set_random_states(\u001b[38;5;28mself\u001b[39m\u001b[38;5;241m.\u001b[39mrandom_states, \u001b[38;5;28mself\u001b[39m\u001b[38;5;241m.\u001b[39mset_random_state):\n",
      "File \u001b[1;32m~\\AppData\\Roaming\\Python\\Python312\\site-packages\\ctgan\\synthesizers\\ctgan.py:425\u001b[0m, in \u001b[0;36mCTGAN.fit\u001b[1;34m(self, train_data, discrete_columns, epochs)\u001b[0m\n\u001b[0;32m    422\u001b[0m     real_cat \u001b[38;5;241m=\u001b[39m real\n\u001b[0;32m    423\u001b[0m     fake_cat \u001b[38;5;241m=\u001b[39m fakeact\n\u001b[1;32m--> 425\u001b[0m y_fake \u001b[38;5;241m=\u001b[39m discriminator(fake_cat)\n\u001b[0;32m    426\u001b[0m y_real \u001b[38;5;241m=\u001b[39m discriminator(real_cat)\n\u001b[0;32m    428\u001b[0m pen \u001b[38;5;241m=\u001b[39m discriminator\u001b[38;5;241m.\u001b[39mcalc_gradient_penalty(\n\u001b[0;32m    429\u001b[0m     real_cat, fake_cat, \u001b[38;5;28mself\u001b[39m\u001b[38;5;241m.\u001b[39m_device, \u001b[38;5;28mself\u001b[39m\u001b[38;5;241m.\u001b[39mpac\n\u001b[0;32m    430\u001b[0m )\n",
      "File \u001b[1;32m~\\AppData\\Roaming\\Python\\Python312\\site-packages\\torch\\nn\\modules\\module.py:1751\u001b[0m, in \u001b[0;36mModule._wrapped_call_impl\u001b[1;34m(self, *args, **kwargs)\u001b[0m\n\u001b[0;32m   1749\u001b[0m     \u001b[38;5;28;01mreturn\u001b[39;00m \u001b[38;5;28mself\u001b[39m\u001b[38;5;241m.\u001b[39m_compiled_call_impl(\u001b[38;5;241m*\u001b[39margs, \u001b[38;5;241m*\u001b[39m\u001b[38;5;241m*\u001b[39mkwargs)  \u001b[38;5;66;03m# type: ignore[misc]\u001b[39;00m\n\u001b[0;32m   1750\u001b[0m \u001b[38;5;28;01melse\u001b[39;00m:\n\u001b[1;32m-> 1751\u001b[0m     \u001b[38;5;28;01mreturn\u001b[39;00m \u001b[38;5;28mself\u001b[39m\u001b[38;5;241m.\u001b[39m_call_impl(\u001b[38;5;241m*\u001b[39margs, \u001b[38;5;241m*\u001b[39m\u001b[38;5;241m*\u001b[39mkwargs)\n",
      "File \u001b[1;32m~\\AppData\\Roaming\\Python\\Python312\\site-packages\\torch\\nn\\modules\\module.py:1762\u001b[0m, in \u001b[0;36mModule._call_impl\u001b[1;34m(self, *args, **kwargs)\u001b[0m\n\u001b[0;32m   1757\u001b[0m \u001b[38;5;66;03m# If we don't have any hooks, we want to skip the rest of the logic in\u001b[39;00m\n\u001b[0;32m   1758\u001b[0m \u001b[38;5;66;03m# this function, and just call forward.\u001b[39;00m\n\u001b[0;32m   1759\u001b[0m \u001b[38;5;28;01mif\u001b[39;00m \u001b[38;5;129;01mnot\u001b[39;00m (\u001b[38;5;28mself\u001b[39m\u001b[38;5;241m.\u001b[39m_backward_hooks \u001b[38;5;129;01mor\u001b[39;00m \u001b[38;5;28mself\u001b[39m\u001b[38;5;241m.\u001b[39m_backward_pre_hooks \u001b[38;5;129;01mor\u001b[39;00m \u001b[38;5;28mself\u001b[39m\u001b[38;5;241m.\u001b[39m_forward_hooks \u001b[38;5;129;01mor\u001b[39;00m \u001b[38;5;28mself\u001b[39m\u001b[38;5;241m.\u001b[39m_forward_pre_hooks\n\u001b[0;32m   1760\u001b[0m         \u001b[38;5;129;01mor\u001b[39;00m _global_backward_pre_hooks \u001b[38;5;129;01mor\u001b[39;00m _global_backward_hooks\n\u001b[0;32m   1761\u001b[0m         \u001b[38;5;129;01mor\u001b[39;00m _global_forward_hooks \u001b[38;5;129;01mor\u001b[39;00m _global_forward_pre_hooks):\n\u001b[1;32m-> 1762\u001b[0m     \u001b[38;5;28;01mreturn\u001b[39;00m forward_call(\u001b[38;5;241m*\u001b[39margs, \u001b[38;5;241m*\u001b[39m\u001b[38;5;241m*\u001b[39mkwargs)\n\u001b[0;32m   1764\u001b[0m result \u001b[38;5;241m=\u001b[39m \u001b[38;5;28;01mNone\u001b[39;00m\n\u001b[0;32m   1765\u001b[0m called_always_called_hooks \u001b[38;5;241m=\u001b[39m \u001b[38;5;28mset\u001b[39m()\n",
      "File \u001b[1;32m~\\AppData\\Roaming\\Python\\Python312\\site-packages\\ctgan\\synthesizers\\ctgan.py:61\u001b[0m, in \u001b[0;36mDiscriminator.forward\u001b[1;34m(self, input_)\u001b[0m\n\u001b[0;32m     59\u001b[0m \u001b[38;5;250m\u001b[39m\u001b[38;5;124;03m\"\"\"Apply the Discriminator to the `input_`.\"\"\"\u001b[39;00m\n\u001b[0;32m     60\u001b[0m \u001b[38;5;28;01massert\u001b[39;00m input_\u001b[38;5;241m.\u001b[39msize()[\u001b[38;5;241m0\u001b[39m] \u001b[38;5;241m%\u001b[39m \u001b[38;5;28mself\u001b[39m\u001b[38;5;241m.\u001b[39mpac \u001b[38;5;241m==\u001b[39m \u001b[38;5;241m0\u001b[39m\n\u001b[1;32m---> 61\u001b[0m \u001b[38;5;28;01mreturn\u001b[39;00m \u001b[38;5;28mself\u001b[39m\u001b[38;5;241m.\u001b[39mseq(input_\u001b[38;5;241m.\u001b[39mview(\u001b[38;5;241m-\u001b[39m\u001b[38;5;241m1\u001b[39m, \u001b[38;5;28mself\u001b[39m\u001b[38;5;241m.\u001b[39mpacdim))\n",
      "File \u001b[1;32m~\\AppData\\Roaming\\Python\\Python312\\site-packages\\torch\\nn\\modules\\module.py:1751\u001b[0m, in \u001b[0;36mModule._wrapped_call_impl\u001b[1;34m(self, *args, **kwargs)\u001b[0m\n\u001b[0;32m   1749\u001b[0m     \u001b[38;5;28;01mreturn\u001b[39;00m \u001b[38;5;28mself\u001b[39m\u001b[38;5;241m.\u001b[39m_compiled_call_impl(\u001b[38;5;241m*\u001b[39margs, \u001b[38;5;241m*\u001b[39m\u001b[38;5;241m*\u001b[39mkwargs)  \u001b[38;5;66;03m# type: ignore[misc]\u001b[39;00m\n\u001b[0;32m   1750\u001b[0m \u001b[38;5;28;01melse\u001b[39;00m:\n\u001b[1;32m-> 1751\u001b[0m     \u001b[38;5;28;01mreturn\u001b[39;00m \u001b[38;5;28mself\u001b[39m\u001b[38;5;241m.\u001b[39m_call_impl(\u001b[38;5;241m*\u001b[39margs, \u001b[38;5;241m*\u001b[39m\u001b[38;5;241m*\u001b[39mkwargs)\n",
      "File \u001b[1;32m~\\AppData\\Roaming\\Python\\Python312\\site-packages\\torch\\nn\\modules\\module.py:1762\u001b[0m, in \u001b[0;36mModule._call_impl\u001b[1;34m(self, *args, **kwargs)\u001b[0m\n\u001b[0;32m   1757\u001b[0m \u001b[38;5;66;03m# If we don't have any hooks, we want to skip the rest of the logic in\u001b[39;00m\n\u001b[0;32m   1758\u001b[0m \u001b[38;5;66;03m# this function, and just call forward.\u001b[39;00m\n\u001b[0;32m   1759\u001b[0m \u001b[38;5;28;01mif\u001b[39;00m \u001b[38;5;129;01mnot\u001b[39;00m (\u001b[38;5;28mself\u001b[39m\u001b[38;5;241m.\u001b[39m_backward_hooks \u001b[38;5;129;01mor\u001b[39;00m \u001b[38;5;28mself\u001b[39m\u001b[38;5;241m.\u001b[39m_backward_pre_hooks \u001b[38;5;129;01mor\u001b[39;00m \u001b[38;5;28mself\u001b[39m\u001b[38;5;241m.\u001b[39m_forward_hooks \u001b[38;5;129;01mor\u001b[39;00m \u001b[38;5;28mself\u001b[39m\u001b[38;5;241m.\u001b[39m_forward_pre_hooks\n\u001b[0;32m   1760\u001b[0m         \u001b[38;5;129;01mor\u001b[39;00m _global_backward_pre_hooks \u001b[38;5;129;01mor\u001b[39;00m _global_backward_hooks\n\u001b[0;32m   1761\u001b[0m         \u001b[38;5;129;01mor\u001b[39;00m _global_forward_hooks \u001b[38;5;129;01mor\u001b[39;00m _global_forward_pre_hooks):\n\u001b[1;32m-> 1762\u001b[0m     \u001b[38;5;28;01mreturn\u001b[39;00m forward_call(\u001b[38;5;241m*\u001b[39margs, \u001b[38;5;241m*\u001b[39m\u001b[38;5;241m*\u001b[39mkwargs)\n\u001b[0;32m   1764\u001b[0m result \u001b[38;5;241m=\u001b[39m \u001b[38;5;28;01mNone\u001b[39;00m\n\u001b[0;32m   1765\u001b[0m called_always_called_hooks \u001b[38;5;241m=\u001b[39m \u001b[38;5;28mset\u001b[39m()\n",
      "File \u001b[1;32m~\\AppData\\Roaming\\Python\\Python312\\site-packages\\torch\\nn\\modules\\container.py:240\u001b[0m, in \u001b[0;36mSequential.forward\u001b[1;34m(self, input)\u001b[0m\n\u001b[0;32m    238\u001b[0m \u001b[38;5;28;01mdef\u001b[39;00m \u001b[38;5;21mforward\u001b[39m(\u001b[38;5;28mself\u001b[39m, \u001b[38;5;28minput\u001b[39m):\n\u001b[0;32m    239\u001b[0m     \u001b[38;5;28;01mfor\u001b[39;00m module \u001b[38;5;129;01min\u001b[39;00m \u001b[38;5;28mself\u001b[39m:\n\u001b[1;32m--> 240\u001b[0m         \u001b[38;5;28minput\u001b[39m \u001b[38;5;241m=\u001b[39m module(\u001b[38;5;28minput\u001b[39m)\n\u001b[0;32m    241\u001b[0m     \u001b[38;5;28;01mreturn\u001b[39;00m \u001b[38;5;28minput\u001b[39m\n",
      "File \u001b[1;32m~\\AppData\\Roaming\\Python\\Python312\\site-packages\\torch\\nn\\modules\\module.py:1751\u001b[0m, in \u001b[0;36mModule._wrapped_call_impl\u001b[1;34m(self, *args, **kwargs)\u001b[0m\n\u001b[0;32m   1749\u001b[0m     \u001b[38;5;28;01mreturn\u001b[39;00m \u001b[38;5;28mself\u001b[39m\u001b[38;5;241m.\u001b[39m_compiled_call_impl(\u001b[38;5;241m*\u001b[39margs, \u001b[38;5;241m*\u001b[39m\u001b[38;5;241m*\u001b[39mkwargs)  \u001b[38;5;66;03m# type: ignore[misc]\u001b[39;00m\n\u001b[0;32m   1750\u001b[0m \u001b[38;5;28;01melse\u001b[39;00m:\n\u001b[1;32m-> 1751\u001b[0m     \u001b[38;5;28;01mreturn\u001b[39;00m \u001b[38;5;28mself\u001b[39m\u001b[38;5;241m.\u001b[39m_call_impl(\u001b[38;5;241m*\u001b[39margs, \u001b[38;5;241m*\u001b[39m\u001b[38;5;241m*\u001b[39mkwargs)\n",
      "File \u001b[1;32m~\\AppData\\Roaming\\Python\\Python312\\site-packages\\torch\\nn\\modules\\module.py:1762\u001b[0m, in \u001b[0;36mModule._call_impl\u001b[1;34m(self, *args, **kwargs)\u001b[0m\n\u001b[0;32m   1757\u001b[0m \u001b[38;5;66;03m# If we don't have any hooks, we want to skip the rest of the logic in\u001b[39;00m\n\u001b[0;32m   1758\u001b[0m \u001b[38;5;66;03m# this function, and just call forward.\u001b[39;00m\n\u001b[0;32m   1759\u001b[0m \u001b[38;5;28;01mif\u001b[39;00m \u001b[38;5;129;01mnot\u001b[39;00m (\u001b[38;5;28mself\u001b[39m\u001b[38;5;241m.\u001b[39m_backward_hooks \u001b[38;5;129;01mor\u001b[39;00m \u001b[38;5;28mself\u001b[39m\u001b[38;5;241m.\u001b[39m_backward_pre_hooks \u001b[38;5;129;01mor\u001b[39;00m \u001b[38;5;28mself\u001b[39m\u001b[38;5;241m.\u001b[39m_forward_hooks \u001b[38;5;129;01mor\u001b[39;00m \u001b[38;5;28mself\u001b[39m\u001b[38;5;241m.\u001b[39m_forward_pre_hooks\n\u001b[0;32m   1760\u001b[0m         \u001b[38;5;129;01mor\u001b[39;00m _global_backward_pre_hooks \u001b[38;5;129;01mor\u001b[39;00m _global_backward_hooks\n\u001b[0;32m   1761\u001b[0m         \u001b[38;5;129;01mor\u001b[39;00m _global_forward_hooks \u001b[38;5;129;01mor\u001b[39;00m _global_forward_pre_hooks):\n\u001b[1;32m-> 1762\u001b[0m     \u001b[38;5;28;01mreturn\u001b[39;00m forward_call(\u001b[38;5;241m*\u001b[39margs, \u001b[38;5;241m*\u001b[39m\u001b[38;5;241m*\u001b[39mkwargs)\n\u001b[0;32m   1764\u001b[0m result \u001b[38;5;241m=\u001b[39m \u001b[38;5;28;01mNone\u001b[39;00m\n\u001b[0;32m   1765\u001b[0m called_always_called_hooks \u001b[38;5;241m=\u001b[39m \u001b[38;5;28mset\u001b[39m()\n",
      "File \u001b[1;32m~\\AppData\\Roaming\\Python\\Python312\\site-packages\\torch\\nn\\modules\\linear.py:125\u001b[0m, in \u001b[0;36mLinear.forward\u001b[1;34m(self, input)\u001b[0m\n\u001b[0;32m    124\u001b[0m \u001b[38;5;28;01mdef\u001b[39;00m \u001b[38;5;21mforward\u001b[39m(\u001b[38;5;28mself\u001b[39m, \u001b[38;5;28minput\u001b[39m: Tensor) \u001b[38;5;241m-\u001b[39m\u001b[38;5;241m>\u001b[39m Tensor:\n\u001b[1;32m--> 125\u001b[0m     \u001b[38;5;28;01mreturn\u001b[39;00m F\u001b[38;5;241m.\u001b[39mlinear(\u001b[38;5;28minput\u001b[39m, \u001b[38;5;28mself\u001b[39m\u001b[38;5;241m.\u001b[39mweight, \u001b[38;5;28mself\u001b[39m\u001b[38;5;241m.\u001b[39mbias)\n",
      "\u001b[1;31mKeyboardInterrupt\u001b[0m: "
     ]
    }
   ],
   "source": [
    "# GAN\n",
    "\n",
    "# `epochs` : nombre de passes sur les données\n",
    "# `batch_size` : taille de chaque lot\n",
    "# `generator_dim` et `discriminator_dim` définissent les architectures\n",
    "epochs = 300\n",
    "batch_size=100\n",
    "n_samples = 200\n",
    "\n",
    "ctgan1 = CTGAN(\n",
    "    epochs=epochs,\n",
    "    batch_size=batch_size,\n",
    "    generator_dim=(256, 256),\n",
    "    discriminator_dim=(256, 256),\n",
    "    verbose=True\n",
    ")\n",
    "\n",
    "# 4. Entraînement\n",
    "# Le modèle apprendra la distribution de vos données\n",
    "X = df1.copy()\n",
    "X = X.drop(columns=['email', 'source']).fillna(0)\n",
    "ctgan1.fit(X)\n",
    "\n",
    "synthetic_data = ctgan1.sample(n_samples)\n",
    "synthetic_data['source'] = 'synth'\n",
    "\n",
    "df5 = pd.concat([df1, synthetic_data], ignore_index=True)"
   ]
  },
  {
   "cell_type": "code",
   "execution_count": null,
   "id": "5fd082cf",
   "metadata": {},
   "outputs": [],
   "source": [
    "tasks = [\n",
    "    (\"avec enrichissement, technique GAN\", df5, {})\n",
    "]\n",
    "\n",
    "summary_records = []\n",
    "res_classical_gan = []\n",
    "for name, dfk, kwargs in tasks:\n",
    "    # 1) Lancement de la fonction\n",
    "    df_detail, df_agg, y_cible, tr_clf = run_analysis_port(\n",
    "        df=dfk.drop(columns=['dropout']),\n",
    "        y=dfk['dropout'],\n",
    "        alpha = 0.05,\n",
    "        do_plot=False,\n",
    "        **kwargs\n",
    "    )\n",
    "    r =  df_detail.groupby([\"method\", \"model\", \"cluster\"]).agg(\n",
    "            mean_coverage=(\"coverage\", \"mean\"),\n",
    "            mean_width=(\"width\", \"mean\")\n",
    "        ).reset_index()\n",
    "    res_classical_gan.append(r[r['cluster'] == -1])"
   ]
  },
  {
   "cell_type": "code",
   "execution_count": null,
   "id": "9d0aa146",
   "metadata": {},
   "outputs": [],
   "source": [
    "res_classical_gan[0]"
   ]
  },
  {
   "cell_type": "code",
   "execution_count": null,
   "id": "4d2f3f20",
   "metadata": {},
   "outputs": [
    {
     "name": "stderr",
     "output_type": "stream",
     "text": [
      "RF: 100%|██████████| 42/42 [01:52<00:00,  2.69s/it]\n",
      "LR: 100%|██████████| 42/42 [00:21<00:00,  1.91it/s]\n",
      "GB: 100%|██████████| 42/42 [00:12<00:00,  3.34it/s]\n",
      "RF: 100%|██████████| 42/42 [02:05<00:00,  2.99s/it]\n",
      "LR: 100%|██████████| 42/42 [00:03<00:00, 12.03it/s]\n",
      "GB: 100%|██████████| 42/42 [00:13<00:00,  3.11it/s]\n",
      "RF: 100%|██████████| 42/42 [02:35<00:00,  3.70s/it]\n",
      "LR: 100%|██████████| 42/42 [00:04<00:00, 10.04it/s]\n",
      "GB: 100%|██████████| 42/42 [00:19<00:00,  2.10it/s]\n"
     ]
    }
   ],
   "source": [
    "tasks = [\n",
    "    (\"sans rien\", df1, {}),\n",
    "    (\"sans enrichissement\", df2, {}),\n",
    "    (\"avec enrichissement, technique SMOTE\", df4, {}),\n",
    "    (\"avec enrichissement, technique GAN\", df5, {})\n",
    "]\n",
    "\n",
    "summary_records = []\n",
    "res_classical = []\n",
    "for name, dfk, kwargs in tasks:\n",
    "    # 1) Lancement de la fonction\n",
    "    df_detail, df_agg, y_cible, tr_clf = run_analysis_port(\n",
    "        df=dfk.drop(columns=['dropout']),\n",
    "        y=dfk['dropout'],\n",
    "        alpha = 0.05,\n",
    "        do_plot=False,\n",
    "        **kwargs\n",
    "    )\n",
    "    r =  df_detail.groupby([\"method\", \"model\", \"cluster\",\"n_projects\"]).agg(\n",
    "            mean_coverage=(\"coverage\", \"mean\"),\n",
    "            mean_width=(\"width\", \"mean\")\n",
    "        ).reset_index()\n",
    "    res_classical.append(r[r['cluster'] == -1])"
   ]
  },
  {
   "cell_type": "code",
   "execution_count": 9,
   "id": "b1988737",
   "metadata": {},
   "outputs": [
    {
     "name": "stderr",
     "output_type": "stream",
     "text": [
      "Fenêtres en ligne:   0%|          | 0/38 [00:00<?, ?it/s]"
     ]
    },
    {
     "name": "stdout",
     "output_type": "stream",
     "text": [
      "fit 1 ok\n",
      "fit 2 ok\n"
     ]
    },
    {
     "name": "stderr",
     "output_type": "stream",
     "text": [
      "Fenêtres en ligne:   3%|▎         | 1/38 [00:07<04:21,  7.07s/it]"
     ]
    },
    {
     "name": "stdout",
     "output_type": "stream",
     "text": [
      "fit 1 ok\n",
      "fit 2 ok\n"
     ]
    },
    {
     "name": "stderr",
     "output_type": "stream",
     "text": [
      "Fenêtres en ligne:   5%|▌         | 2/38 [00:20<06:24, 10.69s/it]"
     ]
    },
    {
     "name": "stdout",
     "output_type": "stream",
     "text": [
      "fit 1 ok\n",
      "fit 2 ok\n"
     ]
    },
    {
     "name": "stderr",
     "output_type": "stream",
     "text": [
      "Fenêtres en ligne:   8%|▊         | 3/38 [00:38<08:13, 14.09s/it]"
     ]
    },
    {
     "name": "stdout",
     "output_type": "stream",
     "text": [
      "fit 1 ok\n",
      "fit 2 ok\n"
     ]
    },
    {
     "name": "stderr",
     "output_type": "stream",
     "text": [
      "Fenêtres en ligne:  11%|█         | 4/38 [01:02<10:09, 17.93s/it]"
     ]
    },
    {
     "name": "stdout",
     "output_type": "stream",
     "text": [
      "fit 1 ok\n",
      "fit 2 ok\n"
     ]
    },
    {
     "name": "stderr",
     "output_type": "stream",
     "text": [
      "Fenêtres en ligne:  13%|█▎        | 5/38 [01:31<12:06, 22.02s/it]"
     ]
    },
    {
     "name": "stdout",
     "output_type": "stream",
     "text": [
      "fit 1 ok\n",
      "fit 2 ok\n"
     ]
    },
    {
     "name": "stderr",
     "output_type": "stream",
     "text": [
      "Fenêtres en ligne:  16%|█▌        | 6/38 [02:15<15:40, 29.40s/it]"
     ]
    },
    {
     "name": "stdout",
     "output_type": "stream",
     "text": [
      "fit 1 ok\n",
      "fit 2 ok\n"
     ]
    },
    {
     "name": "stderr",
     "output_type": "stream",
     "text": [
      "Fenêtres en ligne:  18%|█▊        | 7/38 [03:05<18:41, 36.17s/it]"
     ]
    },
    {
     "name": "stdout",
     "output_type": "stream",
     "text": [
      "fit 1 ok\n",
      "fit 2 ok\n"
     ]
    },
    {
     "name": "stderr",
     "output_type": "stream",
     "text": [
      "Fenêtres en ligne:  21%|██        | 8/38 [03:57<20:39, 41.33s/it]"
     ]
    },
    {
     "name": "stdout",
     "output_type": "stream",
     "text": [
      "fit 1 ok\n",
      "fit 2 ok\n"
     ]
    },
    {
     "name": "stderr",
     "output_type": "stream",
     "text": [
      "Fenêtres en ligne:  24%|██▎       | 9/38 [04:53<22:09, 45.84s/it]"
     ]
    },
    {
     "name": "stdout",
     "output_type": "stream",
     "text": [
      "fit 1 ok\n",
      "fit 2 ok\n"
     ]
    },
    {
     "name": "stderr",
     "output_type": "stream",
     "text": [
      "Fenêtres en ligne:  26%|██▋       | 10/38 [05:59<24:19, 52.13s/it]"
     ]
    },
    {
     "name": "stdout",
     "output_type": "stream",
     "text": [
      "fit 1 ok\n",
      "fit 2 ok\n"
     ]
    },
    {
     "name": "stderr",
     "output_type": "stream",
     "text": [
      "Fenêtres en ligne:  29%|██▉       | 11/38 [07:10<26:05, 57.98s/it]"
     ]
    },
    {
     "name": "stdout",
     "output_type": "stream",
     "text": [
      "fit 1 ok\n",
      "fit 2 ok\n"
     ]
    },
    {
     "name": "stderr",
     "output_type": "stream",
     "text": [
      "Fenêtres en ligne:  32%|███▏      | 12/38 [08:29<27:46, 64.09s/it]"
     ]
    },
    {
     "name": "stdout",
     "output_type": "stream",
     "text": [
      "fit 1 ok\n",
      "fit 2 ok\n"
     ]
    },
    {
     "name": "stderr",
     "output_type": "stream",
     "text": [
      "Fenêtres en ligne:  34%|███▍      | 13/38 [09:46<28:27, 68.29s/it]"
     ]
    },
    {
     "name": "stdout",
     "output_type": "stream",
     "text": [
      "fit 1 ok\n",
      "fit 2 ok\n"
     ]
    },
    {
     "name": "stderr",
     "output_type": "stream",
     "text": [
      "Fenêtres en ligne:  37%|███▋      | 14/38 [11:11<29:17, 73.23s/it]"
     ]
    },
    {
     "name": "stdout",
     "output_type": "stream",
     "text": [
      "fit 1 ok\n",
      "fit 2 ok\n"
     ]
    },
    {
     "name": "stderr",
     "output_type": "stream",
     "text": [
      "Fenêtres en ligne:  39%|███▉      | 15/38 [12:50<31:00, 80.89s/it]"
     ]
    },
    {
     "name": "stdout",
     "output_type": "stream",
     "text": [
      "fit 1 ok\n",
      "fit 2 ok\n"
     ]
    },
    {
     "name": "stderr",
     "output_type": "stream",
     "text": [
      "Fenêtres en ligne:  42%|████▏     | 16/38 [14:38<32:40, 89.11s/it]"
     ]
    },
    {
     "name": "stdout",
     "output_type": "stream",
     "text": [
      "fit 1 ok\n",
      "fit 2 ok\n"
     ]
    },
    {
     "name": "stderr",
     "output_type": "stream",
     "text": [
      "Fenêtres en ligne:  45%|████▍     | 17/38 [16:22<32:47, 93.70s/it]"
     ]
    },
    {
     "name": "stdout",
     "output_type": "stream",
     "text": [
      "fit 1 ok\n",
      "fit 2 ok\n"
     ]
    },
    {
     "name": "stderr",
     "output_type": "stream",
     "text": [
      "Fenêtres en ligne:  47%|████▋     | 18/38 [18:12<32:50, 98.53s/it]"
     ]
    },
    {
     "name": "stdout",
     "output_type": "stream",
     "text": [
      "fit 1 ok\n",
      "fit 2 ok\n"
     ]
    },
    {
     "name": "stderr",
     "output_type": "stream",
     "text": [
      "Fenêtres en ligne:  50%|█████     | 19/38 [20:10<33:00, 104.23s/it]"
     ]
    },
    {
     "name": "stdout",
     "output_type": "stream",
     "text": [
      "fit 1 ok\n",
      "fit 2 ok\n"
     ]
    },
    {
     "name": "stderr",
     "output_type": "stream",
     "text": [
      "Fenêtres en ligne:  53%|█████▎    | 20/38 [22:30<34:32, 115.16s/it]"
     ]
    },
    {
     "name": "stdout",
     "output_type": "stream",
     "text": [
      "fit 1 ok\n",
      "fit 2 ok\n"
     ]
    },
    {
     "name": "stderr",
     "output_type": "stream",
     "text": [
      "Fenêtres en ligne:  55%|█████▌    | 21/38 [25:26<37:47, 133.36s/it]"
     ]
    },
    {
     "name": "stdout",
     "output_type": "stream",
     "text": [
      "fit 1 ok\n",
      "fit 2 ok\n"
     ]
    },
    {
     "name": "stderr",
     "output_type": "stream",
     "text": [
      "Fenêtres en ligne:  58%|█████▊    | 22/38 [28:44<40:42, 152.63s/it]"
     ]
    },
    {
     "name": "stdout",
     "output_type": "stream",
     "text": [
      "fit 1 ok\n",
      "fit 2 ok\n"
     ]
    },
    {
     "name": "stderr",
     "output_type": "stream",
     "text": [
      "Fenêtres en ligne:  61%|██████    | 23/38 [34:27<52:26, 209.78s/it]"
     ]
    },
    {
     "name": "stdout",
     "output_type": "stream",
     "text": [
      "fit 1 ok\n",
      "fit 2 ok\n"
     ]
    },
    {
     "name": "stderr",
     "output_type": "stream",
     "text": [
      "Fenêtres en ligne:  63%|██████▎   | 24/38 [40:27<59:29, 254.93s/it]"
     ]
    },
    {
     "name": "stdout",
     "output_type": "stream",
     "text": [
      "fit 1 ok\n",
      "fit 2 ok\n"
     ]
    },
    {
     "name": "stderr",
     "output_type": "stream",
     "text": [
      "Fenêtres en ligne:  66%|██████▌   | 25/38 [46:24<1:01:53, 285.63s/it]"
     ]
    },
    {
     "name": "stdout",
     "output_type": "stream",
     "text": [
      "fit 1 ok\n",
      "fit 2 ok\n"
     ]
    },
    {
     "name": "stderr",
     "output_type": "stream",
     "text": [
      "Fenêtres en ligne:  68%|██████▊   | 26/38 [52:59<1:03:41, 318.47s/it]"
     ]
    },
    {
     "name": "stdout",
     "output_type": "stream",
     "text": [
      "fit 1 ok\n",
      "fit 2 ok\n"
     ]
    },
    {
     "name": "stderr",
     "output_type": "stream",
     "text": [
      "Fenêtres en ligne:  71%|███████   | 27/38 [58:38<59:29, 324.51s/it]  "
     ]
    },
    {
     "name": "stdout",
     "output_type": "stream",
     "text": [
      "fit 1 ok\n",
      "fit 2 ok\n"
     ]
    },
    {
     "name": "stderr",
     "output_type": "stream",
     "text": [
      "Fenêtres en ligne:  74%|███████▎  | 28/38 [1:04:30<55:28, 332.89s/it]"
     ]
    },
    {
     "name": "stdout",
     "output_type": "stream",
     "text": [
      "fit 1 ok\n",
      "fit 2 ok\n"
     ]
    },
    {
     "name": "stderr",
     "output_type": "stream",
     "text": [
      "Fenêtres en ligne:  76%|███████▋  | 29/38 [1:07:41<43:32, 290.28s/it]"
     ]
    },
    {
     "name": "stdout",
     "output_type": "stream",
     "text": [
      "fit 1 ok\n",
      "fit 2 ok\n"
     ]
    },
    {
     "name": "stderr",
     "output_type": "stream",
     "text": [
      "Fenêtres en ligne:  79%|███████▉  | 30/38 [1:12:41<39:05, 293.17s/it]"
     ]
    },
    {
     "name": "stdout",
     "output_type": "stream",
     "text": [
      "fit 1 ok\n",
      "fit 2 ok\n"
     ]
    },
    {
     "name": "stderr",
     "output_type": "stream",
     "text": [
      "Fenêtres en ligne:  82%|████████▏ | 31/38 [1:20:18<39:56, 342.29s/it]"
     ]
    },
    {
     "name": "stdout",
     "output_type": "stream",
     "text": [
      "fit 1 ok\n",
      "fit 2 ok\n"
     ]
    },
    {
     "name": "stderr",
     "output_type": "stream",
     "text": [
      "Fenêtres en ligne:  84%|████████▍ | 32/38 [1:26:45<35:35, 355.85s/it]"
     ]
    },
    {
     "name": "stdout",
     "output_type": "stream",
     "text": [
      "fit 1 ok\n",
      "fit 2 ok\n"
     ]
    },
    {
     "name": "stderr",
     "output_type": "stream",
     "text": [
      "Fenêtres en ligne:  87%|████████▋ | 33/38 [1:30:33<26:27, 317.46s/it]"
     ]
    },
    {
     "name": "stdout",
     "output_type": "stream",
     "text": [
      "fit 1 ok\n",
      "fit 2 ok\n"
     ]
    },
    {
     "name": "stderr",
     "output_type": "stream",
     "text": [
      "Fenêtres en ligne:  89%|████████▉ | 34/38 [1:37:21<22:58, 344.52s/it]"
     ]
    },
    {
     "name": "stdout",
     "output_type": "stream",
     "text": [
      "fit 1 ok\n",
      "fit 2 ok\n"
     ]
    },
    {
     "name": "stderr",
     "output_type": "stream",
     "text": [
      "Fenêtres en ligne:  92%|█████████▏| 35/38 [1:43:54<17:57, 359.06s/it]"
     ]
    },
    {
     "name": "stdout",
     "output_type": "stream",
     "text": [
      "fit 1 ok\n",
      "fit 2 ok\n"
     ]
    },
    {
     "name": "stderr",
     "output_type": "stream",
     "text": [
      "Fenêtres en ligne:  95%|█████████▍| 36/38 [1:50:21<12:14, 367.43s/it]"
     ]
    },
    {
     "name": "stdout",
     "output_type": "stream",
     "text": [
      "fit 1 ok\n",
      "fit 2 ok\n"
     ]
    },
    {
     "name": "stderr",
     "output_type": "stream",
     "text": [
      "Fenêtres en ligne:  97%|█████████▋| 37/38 [1:57:10<06:19, 379.98s/it]"
     ]
    },
    {
     "name": "stdout",
     "output_type": "stream",
     "text": [
      "fit 1 ok\n",
      "fit 2 ok\n"
     ]
    },
    {
     "name": "stderr",
     "output_type": "stream",
     "text": [
      "Fenêtres en ligne: 100%|██████████| 38/38 [2:03:21<00:00, 194.78s/it]\n"
     ]
    }
   ],
   "source": [
    "w1 = 3 #PARAM w\n",
    "\n",
    "# 1. Sélection des colonnes « Item » (ici on prend les 43 premières si besoin)\n",
    "item_cols = [c for c in df1.columns if c.startswith(\"Item\")]\n",
    "\n",
    "# 2. Colonnes statiques (sans les Items ni les métadonnées)\n",
    "static_cols = [\n",
    "    c for c in df1.columns\n",
    "    if c not in item_cols + [\"email\", \"dropout\", \"source\", \"cluster\"]\n",
    "]\n",
    "\n",
    "# 3. DataFrame de base, qu’on ne modifie pas en place\n",
    "base_df = df1[static_cols].copy()\n",
    "\n",
    "# 4. Construction cumulative du dictionnaire Xt\n",
    "Xt = {\"t0\": base_df.copy()}\n",
    "cum_df = base_df.copy()\n",
    "for idx, col in enumerate(item_cols, start=1):\n",
    "    cum_df = cum_df.copy()\n",
    "    cum_df[f\"t{idx}\"] = df1[col]\n",
    "    Xt[f\"t{idx}\"] = cum_df\n",
    "\n",
    "# 5. Construire y pour l’horizon H\n",
    "H = 1\n",
    "keys = list(Xt.keys())\n",
    "y = {}\n",
    "\n",
    "# cible pour t0\n",
    "if H < len(keys):\n",
    "    y[\"t0\"] = Xt[keys[H]].iloc[:, -1].copy().fillna(0)\n",
    "else:\n",
    "    y[\"t0\"] = Xt[keys[-1]].iloc[:, -1].copy().fillna(0)\n",
    "\n",
    "for i, key in enumerate(keys[1:], start=1):\n",
    "    tgt = i + H\n",
    "    if tgt < len(keys):\n",
    "        df_tgt = Xt[keys[tgt]]\n",
    "    else:\n",
    "        df_tgt = Xt[keys[-1]]\n",
    "    y[key] = df_tgt.iloc[:, -1].copy().fillna(0)\n",
    "\n",
    "# 6. Construire X en ne gardant que les w dernières notes (fenêtre glissante)\n",
    "X = {}\n",
    "\n",
    "# on parcourt les mêmes clés que pour y, mais on saute celles où i < w\n",
    "for i, key in enumerate(keys):\n",
    "    if i < w1:\n",
    "        continue\n",
    "    # on prend les w derniers item_cols correspondant aux notes t_{i-w+1} … t_i\n",
    "    window_item_cols = item_cols[i-w1 : i]\n",
    "    X[key] = df1[window_item_cols].copy().fillna(0)\n",
    "\n",
    "# 7. Conversion en arrays NumPy (alignés sur les mêmes clés)\n",
    "valid_keys = keys[w1:]  # on commence à t{w}\n",
    "X_array_hori = [X[k].values for k in valid_keys]\n",
    "y_array_hori = [y[k].values for k in valid_keys]\n",
    "\n",
    "X_array = X_array_hori.copy()\n",
    "y_array = y_array_hori.copy()\n",
    "U_t = []\n",
    "# On parcourt i de 1 à len(X_array)-1 (i=0 n'a pas de passé pour entraîner)\n",
    "for i in tqdm(range(1, len(X_array) - 1), desc=\"Fenêtres en ligne\"):\n",
    "    # --- 1) Construction du train sur les fenêtres passées ---\n",
    "    X_train = np.vstack(X_array[:i])      # fenêtres 0..i-1\n",
    "    y_train = np.concatenate(y_array[:i])\n",
    "    # --- 2) Entraînement d'un nouveau modèle ---\n",
    "    model = OneSidedSPCI_LGBM_Offline(alpha=0.1, w=300, random_state=0)\n",
    "    model.fit(X_train, y_train)\n",
    "    X_i, y_i = X_array[i], y_array[i]\n",
    "    # calcul des bornes supérieures U_t pour chaque échantillon de X_i\n",
    "    U = np.array([\n",
    "        model.predict_interval(x.reshape(1, -1))[1]\n",
    "        for x in X_i\n",
    "    ])\n",
    "    U_t.append(U)\n",
    "\n",
    "df6 = df1.copy()\n",
    "\n",
    "# 1) nombre de colonnes avant insertion\n",
    "n_cols = df6.shape[1]\n",
    "\n",
    "# 2) on insère chaque vecteur de U_t avant la nième colonne depuis la fin\n",
    "#    et on génère le nom \"Item_{42-i}_next_grade\"\n",
    "for i, ut in enumerate(reversed(U_t), start=1):\n",
    "    loc = n_cols - 1 - i\n",
    "    col_name = f\"Item {42 - i}_next_grade\"\n",
    "    df6.insert(loc, col_name, ut) # avec notes SPCI"
   ]
  },
  {
   "cell_type": "code",
   "execution_count": 10,
   "id": "cc32e0b1",
   "metadata": {},
   "outputs": [
    {
     "name": "stdout",
     "output_type": "stream",
     "text": [
      "0    101\n",
      "1    184\n",
      "2     74\n",
      "3     37\n",
      "4    157\n",
      "5     79\n",
      "6    141\n",
      "7     84\n",
      "Name: count, dtype: int64\n"
     ]
    },
    {
     "name": "stderr",
     "output_type": "stream",
     "text": [
      "c:\\ProgramData\\anaconda3\\Lib\\site-packages\\sklearn\\cluster\\_kmeans.py:1429: UserWarning: KMeans is known to have a memory leak on Windows with MKL, when there are less chunks than available threads. You can avoid it by setting the environment variable OMP_NUM_THREADS=4.\n",
      "  warnings.warn(\n"
     ]
    }
   ],
   "source": [
    "n_clusters_spci_next_grade = 8\n",
    "X = df6.drop(columns=['email', 'dropout', 'source'] + item_cols).fillna(0)\n",
    "scaler = StandardScaler()\n",
    "X_scaled = scaler.fit_transform(X)\n",
    "kmeans = KMeans(n_clusters=n_clusters_spci_next_grade, random_state=42)\n",
    "clusters = kmeans.fit_predict(X_scaled)\n",
    "df7 = df6.copy()\n",
    "df7['cluster'] = clusters # avec notes SPCI et cluster\n",
    "print(pd.Series(clusters).value_counts().sort_index())"
   ]
  },
  {
   "cell_type": "code",
   "execution_count": 35,
   "id": "e54e96df",
   "metadata": {},
   "outputs": [
    {
     "name": "stdout",
     "output_type": "stream",
     "text": [
      "Clusters trop petits à réaffecter : [0, 4, 5, 6, 7]\n",
      "Nouvelles tailles de clusters :\n",
      " 1    314\n",
      "2    262\n",
      "3    281\n",
      "Name: count, dtype: int64\n"
     ]
    },
    {
     "name": "stderr",
     "output_type": "stream",
     "text": [
      "c:\\ProgramData\\anaconda3\\Lib\\site-packages\\sklearn\\cluster\\_kmeans.py:1429: UserWarning: KMeans is known to have a memory leak on Windows with MKL, when there are less chunks than available threads. You can avoid it by setting the environment variable OMP_NUM_THREADS=4.\n",
      "  warnings.warn(\n"
     ]
    }
   ],
   "source": [
    "min_cluster_size = 100\n",
    "dfng = assign_clusters_with_min_size(df6, n_clusters=8, min_cluster_size=min_cluster_size)"
   ]
  },
  {
   "cell_type": "code",
   "execution_count": 11,
   "id": "59de9297",
   "metadata": {},
   "outputs": [],
   "source": [
    "df8 = oversample_minority_clusters(\n",
    "    df7,\n",
    "    item_cols,\n",
    "    n_by_cluster_min=n_by_cluster_min,\n",
    "    k_neighbors=k_neighbors,\n",
    "    cluster_col='cluster',\n",
    "    drop_cols=['email', 'source']\n",
    ")"
   ]
  },
  {
   "cell_type": "code",
   "execution_count": null,
   "id": "ffd4e17e",
   "metadata": {},
   "outputs": [
    {
     "name": "stderr",
     "output_type": "stream",
     "text": [
      "Gen. (-5.06) | Discrim. (0.00): 100%|██████████| 50/50 [07:22<00:00,  8.85s/it] \n"
     ]
    },
    {
     "ename": "NameError",
     "evalue": "name 'n_samples' is not defined",
     "output_type": "error",
     "traceback": [
      "\u001b[1;31m---------------------------------------------------------------------------\u001b[0m",
      "\u001b[1;31mNameError\u001b[0m                                 Traceback (most recent call last)",
      "Cell \u001b[1;32mIn[41], line 15\u001b[0m\n\u001b[0;32m     12\u001b[0m X \u001b[38;5;241m=\u001b[39m X\u001b[38;5;241m.\u001b[39mdrop(columns\u001b[38;5;241m=\u001b[39m[\u001b[38;5;124m'\u001b[39m\u001b[38;5;124memail\u001b[39m\u001b[38;5;124m'\u001b[39m, \u001b[38;5;124m'\u001b[39m\u001b[38;5;124msource\u001b[39m\u001b[38;5;124m'\u001b[39m])\u001b[38;5;241m.\u001b[39mfillna(\u001b[38;5;241m0\u001b[39m)\n\u001b[0;32m     13\u001b[0m ctgan2\u001b[38;5;241m.\u001b[39mfit(X)\n\u001b[1;32m---> 15\u001b[0m synthetic_data \u001b[38;5;241m=\u001b[39m ctgan2\u001b[38;5;241m.\u001b[39msample(n_samples)\n\u001b[0;32m     16\u001b[0m synthetic_data[\u001b[38;5;124m'\u001b[39m\u001b[38;5;124msource\u001b[39m\u001b[38;5;124m'\u001b[39m] \u001b[38;5;241m=\u001b[39m \u001b[38;5;124m'\u001b[39m\u001b[38;5;124msynth\u001b[39m\u001b[38;5;124m'\u001b[39m\n\u001b[0;32m     18\u001b[0m df9 \u001b[38;5;241m=\u001b[39m pd\u001b[38;5;241m.\u001b[39mconcat([df6, synthetic_data], ignore_index\u001b[38;5;241m=\u001b[39m\u001b[38;5;28;01mTrue\u001b[39;00m)\n",
      "\u001b[1;31mNameError\u001b[0m: name 'n_samples' is not defined"
     ]
    }
   ],
   "source": [
    "ctgan2 = CTGAN(\n",
    "    epochs=50,\n",
    "    batch_size=100,\n",
    "    generator_dim=(256, 256),\n",
    "    discriminator_dim=(256, 256),\n",
    "    verbose=True\n",
    ")\n",
    "\n",
    "# 4. Entraînement\n",
    "# Le modèle apprendra la distribution de vos données\n",
    "X = df6.copy()\n",
    "X = X.drop(columns=['email', 'source']).fillna(0)\n",
    "ctgan2.fit(X)\n"
   ]
  },
  {
   "cell_type": "code",
   "execution_count": 42,
   "id": "6609d426",
   "metadata": {},
   "outputs": [],
   "source": [
    "n_samples = 200\n",
    "synthetic_data = ctgan2.sample(n_samples)\n",
    "synthetic_data['source'] = 'synth'\n",
    "\n",
    "df9 = pd.concat([df6, synthetic_data], ignore_index=True)"
   ]
  },
  {
   "cell_type": "code",
   "execution_count": 47,
   "id": "258d295a",
   "metadata": {},
   "outputs": [
    {
     "name": "stderr",
     "output_type": "stream",
     "text": [
      "RF: 100%|██████████| 42/42 [06:03<00:00,  8.65s/it]\n",
      "LR: 100%|██████████| 42/42 [00:23<00:00,  1.80it/s]\n",
      "GB: 100%|██████████| 42/42 [00:25<00:00,  1.68it/s]\n"
     ]
    }
   ],
   "source": [
    "tasks = [\n",
    "    (\"GAN enriched and clustered, with next spci grade\", df6, {})\n",
    "]\n",
    "\n",
    "res_SPCI_next_grade = []\n",
    "for name, dfk, kwargs in tasks:\n",
    "    # 1) Lancement de la fonction\n",
    "    df_detail, df_agg, y_cible, tr_clf = run_analysis_port(\n",
    "        df=dfk.drop(columns=['dropout']),\n",
    "        y=dfk['dropout'],\n",
    "        alpha = 0.05,\n",
    "        do_plot=False,\n",
    "        **kwargs\n",
    "    )\n",
    "    r =  df_detail.groupby([\"method\", \"model\", \"cluster\",\"n_projects\"]).agg(\n",
    "            mean_coverage=(\"coverage\", \"mean\"),\n",
    "            mean_width=(\"width\", \"mean\")\n",
    "        ).reset_index()\n",
    "    res_SPCI_next_grade.append(r[r['cluster'] == -1])"
   ]
  },
  {
   "cell_type": "code",
   "execution_count": 49,
   "id": "f4771ad7",
   "metadata": {},
   "outputs": [
    {
     "data": {
      "text/html": [
       "<div>\n",
       "<style scoped>\n",
       "    .dataframe tbody tr th:only-of-type {\n",
       "        vertical-align: middle;\n",
       "    }\n",
       "\n",
       "    .dataframe tbody tr th {\n",
       "        vertical-align: top;\n",
       "    }\n",
       "\n",
       "    .dataframe thead th {\n",
       "        text-align: right;\n",
       "    }\n",
       "</style>\n",
       "<table border=\"1\" class=\"dataframe\">\n",
       "  <thead>\n",
       "    <tr style=\"text-align: right;\">\n",
       "      <th></th>\n",
       "      <th>method</th>\n",
       "      <th>model</th>\n",
       "      <th>cluster</th>\n",
       "      <th>mean_coverage</th>\n",
       "      <th>mean_width</th>\n",
       "    </tr>\n",
       "  </thead>\n",
       "  <tbody>\n",
       "    <tr>\n",
       "      <th>0</th>\n",
       "      <td>mondrian</td>\n",
       "      <td>GB</td>\n",
       "      <td>-1</td>\n",
       "      <td>0.928571</td>\n",
       "      <td>1.301495</td>\n",
       "    </tr>\n",
       "    <tr>\n",
       "      <th>1</th>\n",
       "      <td>mondrian</td>\n",
       "      <td>LR</td>\n",
       "      <td>-1</td>\n",
       "      <td>0.958749</td>\n",
       "      <td>1.617386</td>\n",
       "    </tr>\n",
       "    <tr>\n",
       "      <th>2</th>\n",
       "      <td>mondrian</td>\n",
       "      <td>RF</td>\n",
       "      <td>-1</td>\n",
       "      <td>0.916113</td>\n",
       "      <td>1.393688</td>\n",
       "    </tr>\n",
       "    <tr>\n",
       "      <th>3</th>\n",
       "      <td>vanilla</td>\n",
       "      <td>GB</td>\n",
       "      <td>-1</td>\n",
       "      <td>0.928571</td>\n",
       "      <td>1.301495</td>\n",
       "    </tr>\n",
       "    <tr>\n",
       "      <th>4</th>\n",
       "      <td>vanilla</td>\n",
       "      <td>LR</td>\n",
       "      <td>-1</td>\n",
       "      <td>0.958749</td>\n",
       "      <td>1.617386</td>\n",
       "    </tr>\n",
       "    <tr>\n",
       "      <th>5</th>\n",
       "      <td>vanilla</td>\n",
       "      <td>RF</td>\n",
       "      <td>-1</td>\n",
       "      <td>0.916113</td>\n",
       "      <td>1.393688</td>\n",
       "    </tr>\n",
       "  </tbody>\n",
       "</table>\n",
       "</div>"
      ],
      "text/plain": [
       "     method model  cluster  mean_coverage  mean_width\n",
       "0  mondrian    GB       -1       0.928571    1.301495\n",
       "1  mondrian    LR       -1       0.958749    1.617386\n",
       "2  mondrian    RF       -1       0.916113    1.393688\n",
       "3   vanilla    GB       -1       0.928571    1.301495\n",
       "4   vanilla    LR       -1       0.958749    1.617386\n",
       "5   vanilla    RF       -1       0.916113    1.393688"
      ]
     },
     "execution_count": 49,
     "metadata": {},
     "output_type": "execute_result"
    }
   ],
   "source": [
    "res_SPCI_next_grade[0].groupby([\"method\", \"model\", \"cluster\"]).agg(\n",
    "            mean_coverage=(\"mean_coverage\", \"mean\"),\n",
    "            mean_width=(\"mean_width\", \"mean\")\n",
    "        ).reset_index()"
   ]
  },
  {
   "cell_type": "code",
   "execution_count": 12,
   "id": "16eb2bc3",
   "metadata": {},
   "outputs": [],
   "source": [
    "target = df1['dropout']\n",
    "cols = [c for c in df1.columns if c.startswith(\"Item\")]\n",
    "# print(cols[-3:])\n",
    "shooting = df1[cols[-1:]].mean(axis=1)\n",
    "\n",
    "s_opt, err_opt = find_best_threshold(shooting, target)\n",
    "\n",
    "THRESHOLD = s_opt"
   ]
  },
  {
   "cell_type": "code",
   "execution_count": 53,
   "id": "f729453b",
   "metadata": {},
   "outputs": [
    {
     "name": "stderr",
     "output_type": "stream",
     "text": [
      "Fenêtres en ligne: 100%|██████████| 31/31 [1:58:10<00:00, 228.72s/it]\n"
     ]
    }
   ],
   "source": [
    "w2 = 11\n",
    "ALPHA2 = 0.05\n",
    "\n",
    "dfsp = df1.copy()\n",
    "base_df = dfsp[static_cols].copy()\n",
    "\n",
    "# 4. Construction cumulative du dictionnaire Xt\n",
    "Xt = {\"t0\": base_df.copy()}\n",
    "cum_df = base_df.copy()\n",
    "for idx, col in enumerate(item_cols, start=1):\n",
    "    cum_df = cum_df.copy()\n",
    "    cum_df[f\"t{idx}\"] = dfsp[col]\n",
    "    Xt[f\"t{idx}\"] = cum_df\n",
    "\n",
    "# 6. Construire X en ne gardant que les w dernières notes (fenêtre glissante)\n",
    "X = {}\n",
    "keys = list(Xt.keys())\n",
    "# on parcourt les mêmes clés que pour y, mais on saute celles où i < w\n",
    "for i, key in enumerate(keys):\n",
    "    if i < w2:\n",
    "        continue\n",
    "    # on prend les w derniers item_cols correspondant aux notes t_{i-w+1} … t_i\n",
    "    window_item_cols = item_cols[i-w1 : i]\n",
    "    X[key] = dfsp[window_item_cols].copy().fillna(0)\n",
    "\n",
    "# 7. Conversion en arrays NumPy (alignés sur les mêmes clés)\n",
    "valid_keys = keys[w2:]  # on commence à t{w}\n",
    "X_array_hori = [X[k].values for k in valid_keys]\n",
    "models2sp = []\n",
    "X_array = X_array_hori.copy()\n",
    "k = len(X_array)\n",
    "# Parcours des fenêtres temporelles\n",
    "for i in tqdm(range(1, k), desc=\"Fenêtres en ligne\"):\n",
    "\n",
    "    H = len(keys) - i - w2\n",
    "    y = []\n",
    "\n",
    "    for j in range(w2, len(keys)):\n",
    "        if j+H < len(keys):\n",
    "            y_j = Xt[keys[j+H]].iloc[:, 3]\n",
    "        else:\n",
    "            y_j = Xt[keys[-1]].iloc[:, 3]\n",
    "        y.append(y_j)\n",
    "    y_array = [s.values for s in y]\n",
    "    # 1) Construction du train sur les fenêtres passées\n",
    "    X_train = np.vstack(X_array[:i])      # fenêtres 0..i-1\n",
    "    y_train = np.concatenate(y_array[:i])\n",
    "    # 2) Entraînement d'un nouveau modèle\n",
    "    model = TwoSidedSPCI_RFQuant_Offline(alpha=ALPHA2, w=50, random_state=0)\n",
    "    model.fit(X_train, y_train)\n",
    "\n",
    "    # Sauvegarde en mémoire\n",
    "    models2sp.append(model)\n",
    "\n",
    "    # 3) Évaluation sur la fenêtre courante i\n",
    "    X_i, y_i = X_array[i], y_array[i]\n",
    "    L = np.array([\n",
    "        model.predict_interval(x.reshape(1, -1))[0]\n",
    "        for x in X_i\n",
    "    ])\n",
    "    U = np.array([\n",
    "        model.predict_interval(x.reshape(1, -1))[1]\n",
    "        for x in X_i\n",
    "    ])"
   ]
  },
  {
   "cell_type": "code",
   "execution_count": null,
   "id": "ff23338c",
   "metadata": {},
   "outputs": [],
   "source": [
    "threshold = THRESHOLD\n",
    "y_all = dfsp['dropout'].astype(int)\n",
    "y_all_arr = y_all.values\n",
    "print(\n",
    "    f\" threshold = {threshold:.3f} → {y_all.mean() * 100:.1f}% positives\"\n",
    ")\n",
    "# 2) Charger tous les modèles dans une liste\n",
    "loaded_models = models2sp\n",
    "res2sp = {}\n",
    "covs2sp, widths2sp = {}, {}\n",
    "\n",
    "# 3) Parcourir chaque modèle et faire vos prédictions d'intervalles\n",
    "for idx, model in enumerate(loaded_models, start=1):\n",
    "    print(f\"Modèle rechargé pour fenêtre {idx} -> {model}\")\n",
    "    res2sp[\"n_projects\"] = idx + w2\n",
    "    # Récupère les nouvelles données pour la fenêtre idx\n",
    "    # (ici on suppose que X_array_hori[0] était la fenêtre 0, etc.)\n",
    "    X_new = X_array_hori[idx]\n",
    "\n",
    "    # Prédiction des intervalles [L, U] pour chaque échantillon de X_new\n",
    "    intervals = [model.predict_interval(x.reshape(1, -1)) for x in X_new]\n",
    "    # Séparez les bornes inférieures et supérieures\n",
    "    L_preds, U_preds = zip(*intervals)\n",
    "\n",
    "    # Affichage rapide\n",
    "    print(\"Exemple de borne inférieure :\", np.array(L_preds)[0])\n",
    "    print(\"Exemple de borne supérieure :\", np.array(U_preds)[0])\n",
    "\n",
    "    # 4) Application du seuil pour générer y_pred\n",
    "    y_preds2sp = []\n",
    "    for L, U in zip(L_preds, U_preds):\n",
    "        if threshold > U:\n",
    "            # le seuil est au-dessus de l'intervalle → classe positive uniquement\n",
    "            y_preds2sp.append([1])\n",
    "        elif threshold < L:\n",
    "            # le seuil est en-dessous de l'intervalle → classe négative uniquement\n",
    "            y_preds2sp.append([0])\n",
    "        else:\n",
    "            # le seuil est à l'intérieur de l'intervalle → ambiguïté\n",
    "            y_preds2sp.append([0,1])\n",
    "\n",
    "    n_samples = len(y_preds2sp)\n",
    "    n_classes = 2\n",
    "\n",
    "    # 1) Créer le tableau booléen\n",
    "    y_pred_bool = np.zeros((n_samples, n_classes), dtype=bool)\n",
    "    for i, labels in enumerate(y_preds2sp):\n",
    "        y_pred_bool[i, labels] = True\n",
    "    cov_all = classification_coverage_score(y_all_arr, y_pred_bool)\n",
    "    width_all = classification_mean_width_score(y_pred_bool)\n",
    "    res2sp[\"coverage\"] = cov_all\n",
    "    res2sp[\"width\"] = width_all"
   ]
  },
  {
   "cell_type": "code",
   "execution_count": null,
   "id": "bb287023",
   "metadata": {},
   "outputs": [],
   "source": [
    "dataframes = {\n",
    "    \"simple\": df1,\n",
    "    \"+ cluster\": df2,\n",
    "    \"+ cluster + SMOTE\": df4,\n",
    "    \"+ cluster + GAN\": df5,\n",
    "    \"+ SPCI next_grade\": df6,\n",
    "    \"+ SPCI next_grade + cluster\": df7,\n",
    "    \"+ SPCI next_grade + cluster + SMOTE\": df8,\n",
    "    \"SPCI next_grade + cluster + GAN\": df9\n",
    "}"
   ]
  },
  {
   "cell_type": "code",
   "execution_count": 55,
   "id": "68f2ebac",
   "metadata": {},
   "outputs": [
    {
     "name": "stderr",
     "output_type": "stream",
     "text": [
      "RF:   0%|          | 0/31 [00:00<?, ?it/s]"
     ]
    },
    {
     "name": "stdout",
     "output_type": "stream",
     "text": [
      "MCP 0.9069767441860465 1.3837209302325582\n",
      "SPCI 0.7790697674418605 1.5930232558139534\n",
      "UNION : 0.9767441860465116 1.8953488372093024\n"
     ]
    },
    {
     "name": "stderr",
     "output_type": "stream",
     "text": [
      "RF:   3%|▎         | 1/31 [00:13<06:36, 13.22s/it]"
     ]
    },
    {
     "name": "stdout",
     "output_type": "stream",
     "text": [
      "COMBINED 0.7674418604651163 1.2383720930232558\n",
      "MCP 0.9069767441860465 1.372093023255814\n",
      "SPCI 0.9593023255813954 1.7732558139534884\n",
      "UNION : 0.9941860465116279 1.877906976744186\n"
     ]
    },
    {
     "name": "stderr",
     "output_type": "stream",
     "text": [
      "RF:   6%|▋         | 2/31 [00:47<12:18, 25.45s/it]"
     ]
    },
    {
     "name": "stdout",
     "output_type": "stream",
     "text": [
      "COMBINED 0.877906976744186 1.302325581395349\n",
      "MCP 0.9069767441860465 1.372093023255814\n",
      "SPCI 0.9767441860465116 1.930232558139535\n",
      "UNION : 0.9883720930232558 1.947674418604651\n"
     ]
    },
    {
     "name": "stderr",
     "output_type": "stream",
     "text": [
      "RF:  10%|▉         | 3/31 [01:30<15:45, 33.76s/it]"
     ]
    },
    {
     "name": "stdout",
     "output_type": "stream",
     "text": [
      "COMBINED 0.9011627906976745 1.3662790697674418\n",
      "MCP 0.9186046511627907 1.3895348837209303\n",
      "SPCI 0.9767441860465116 1.9069767441860466\n",
      "UNION : 0.9941860465116279 1.947674418604651\n"
     ]
    },
    {
     "name": "stderr",
     "output_type": "stream",
     "text": [
      "RF:  13%|█▎        | 4/31 [02:10<16:10, 35.93s/it]"
     ]
    },
    {
     "name": "stdout",
     "output_type": "stream",
     "text": [
      "COMBINED 0.9069767441860465 1.372093023255814\n",
      "MCP 0.9186046511627907 1.3895348837209303\n",
      "SPCI 0.9709302325581395 1.9069767441860466\n",
      "UNION : 0.9941860465116279 1.941860465116279\n"
     ]
    },
    {
     "name": "stderr",
     "output_type": "stream",
     "text": [
      "RF:  16%|█▌        | 5/31 [02:49<16:06, 37.18s/it]"
     ]
    },
    {
     "name": "stdout",
     "output_type": "stream",
     "text": [
      "COMBINED 0.8953488372093024 1.372093023255814\n",
      "MCP 0.9186046511627907 1.3895348837209303\n",
      "SPCI 0.9651162790697675 1.9069767441860466\n",
      "UNION : 0.9941860465116279 1.9534883720930232\n"
     ]
    },
    {
     "name": "stderr",
     "output_type": "stream",
     "text": [
      "RF:  19%|█▉        | 6/31 [03:28<15:46, 37.86s/it]"
     ]
    },
    {
     "name": "stdout",
     "output_type": "stream",
     "text": [
      "COMBINED 0.8895348837209303 1.3662790697674418\n",
      "MCP 0.9186046511627907 1.3895348837209303\n",
      "SPCI 0.9883720930232558 1.9767441860465116\n",
      "UNION : 1.0 1.9883720930232558\n"
     ]
    },
    {
     "name": "stderr",
     "output_type": "stream",
     "text": [
      "RF:  23%|██▎       | 7/31 [04:11<15:50, 39.62s/it]"
     ]
    },
    {
     "name": "stdout",
     "output_type": "stream",
     "text": [
      "COMBINED 0.9069767441860465 1.3837209302325582\n",
      "MCP 0.9186046511627907 1.3895348837209303\n",
      "SPCI 0.5755813953488372 1.0\n",
      "UNION : 0.9476744186046512 1.5988372093023255\n"
     ]
    },
    {
     "name": "stderr",
     "output_type": "stream",
     "text": [
      "RF:  26%|██▌       | 8/31 [04:49<14:59, 39.09s/it]"
     ]
    },
    {
     "name": "stdout",
     "output_type": "stream",
     "text": [
      "COMBINED 0.5755813953488372 1.0\n",
      "MCP 0.9186046511627907 1.3895348837209303\n",
      "SPCI 0.5755813953488372 1.0\n",
      "UNION : 0.9476744186046512 1.5988372093023255\n"
     ]
    },
    {
     "name": "stderr",
     "output_type": "stream",
     "text": [
      "RF:  29%|██▉       | 9/31 [05:29<14:22, 39.20s/it]"
     ]
    },
    {
     "name": "stdout",
     "output_type": "stream",
     "text": [
      "COMBINED 0.5755813953488372 1.0\n",
      "MCP 0.9186046511627907 1.3895348837209303\n",
      "SPCI 0.5755813953488372 1.0\n",
      "UNION : 0.9476744186046512 1.5988372093023255\n"
     ]
    },
    {
     "name": "stderr",
     "output_type": "stream",
     "text": [
      "RF:  32%|███▏      | 10/31 [06:00<12:52, 36.77s/it]"
     ]
    },
    {
     "name": "stdout",
     "output_type": "stream",
     "text": [
      "COMBINED 0.5755813953488372 1.0\n",
      "MCP 0.9186046511627907 1.3895348837209303\n",
      "SPCI 0.6686046511627907 1.3313953488372092\n",
      "UNION : 0.9593023255813954 1.7790697674418605\n"
     ]
    },
    {
     "name": "stderr",
     "output_type": "stream",
     "text": [
      "RF:  35%|███▌      | 11/31 [06:12<09:44, 29.23s/it]"
     ]
    },
    {
     "name": "stdout",
     "output_type": "stream",
     "text": [
      "COMBINED 0.6918604651162791 1.127906976744186\n",
      "MCP 0.9186046511627907 1.3895348837209303\n",
      "SPCI 0.9941860465116279 1.9709302325581395\n",
      "UNION : 1.0 1.9883720930232558\n"
     ]
    },
    {
     "name": "stderr",
     "output_type": "stream",
     "text": [
      "RF:  39%|███▊      | 12/31 [06:25<07:42, 24.32s/it]"
     ]
    },
    {
     "name": "stdout",
     "output_type": "stream",
     "text": [
      "COMBINED 0.9127906976744186 1.377906976744186\n",
      "MCP 0.9186046511627907 1.3895348837209303\n",
      "SPCI 0.9941860465116279 1.9709302325581395\n",
      "UNION : 1.0 1.9883720930232558\n"
     ]
    },
    {
     "name": "stderr",
     "output_type": "stream",
     "text": [
      "RF:  42%|████▏     | 13/31 [06:53<07:36, 25.38s/it]"
     ]
    },
    {
     "name": "stdout",
     "output_type": "stream",
     "text": [
      "COMBINED 0.9127906976744186 1.372093023255814\n",
      "MCP 0.9186046511627907 1.3895348837209303\n",
      "SPCI 0.9709302325581395 1.936046511627907\n",
      "UNION : 0.9941860465116279 1.9767441860465116\n"
     ]
    },
    {
     "name": "stderr",
     "output_type": "stream",
     "text": [
      "RF:  45%|████▌     | 14/31 [07:05<06:02, 21.35s/it]"
     ]
    },
    {
     "name": "stdout",
     "output_type": "stream",
     "text": [
      "COMBINED 0.9011627906976745 1.3662790697674418\n",
      "MCP 0.9186046511627907 1.3895348837209303\n",
      "SPCI 0.6627906976744186 1.25\n",
      "UNION : 0.9651162790697675 1.75\n"
     ]
    },
    {
     "name": "stderr",
     "output_type": "stream",
     "text": [
      "RF:  48%|████▊     | 15/31 [07:38<06:34, 24.68s/it]"
     ]
    },
    {
     "name": "stdout",
     "output_type": "stream",
     "text": [
      "COMBINED 0.6453488372093024 1.063953488372093\n",
      "MCP 0.9186046511627907 1.3895348837209303\n",
      "SPCI 0.8197674418604651 1.6337209302325582\n",
      "UNION : 0.9825581395348837 1.9186046511627908\n"
     ]
    },
    {
     "name": "stderr",
     "output_type": "stream",
     "text": [
      "RF:  52%|█████▏    | 16/31 [08:14<07:00, 28.04s/it]"
     ]
    },
    {
     "name": "stdout",
     "output_type": "stream",
     "text": [
      "COMBINED 0.7965116279069767 1.2034883720930232\n",
      "MCP 0.9186046511627907 1.3895348837209303\n",
      "SPCI 0.5755813953488372 1.0\n",
      "UNION : 0.9476744186046512 1.5988372093023255\n"
     ]
    },
    {
     "name": "stderr",
     "output_type": "stream",
     "text": [
      "RF:  55%|█████▍    | 17/31 [08:54<07:26, 31.87s/it]"
     ]
    },
    {
     "name": "stdout",
     "output_type": "stream",
     "text": [
      "COMBINED 0.5755813953488372 1.0\n",
      "MCP 0.9186046511627907 1.3895348837209303\n",
      "SPCI 0.5755813953488372 1.0\n",
      "UNION : 0.9476744186046512 1.5988372093023255\n"
     ]
    },
    {
     "name": "stderr",
     "output_type": "stream",
     "text": [
      "RF:  58%|█████▊    | 18/31 [09:31<07:14, 33.40s/it]"
     ]
    },
    {
     "name": "stdout",
     "output_type": "stream",
     "text": [
      "COMBINED 0.5755813953488372 1.0\n",
      "MCP 0.9186046511627907 1.3895348837209303\n",
      "SPCI 0.7674418604651163 1.4593023255813953\n",
      "UNION : 0.9767441860465116 1.808139534883721\n"
     ]
    },
    {
     "name": "stderr",
     "output_type": "stream",
     "text": [
      "RF:  61%|██████▏   | 19/31 [10:06<06:47, 33.96s/it]"
     ]
    },
    {
     "name": "stdout",
     "output_type": "stream",
     "text": [
      "COMBINED 0.7441860465116279 1.1744186046511629\n",
      "MCP 0.9186046511627907 1.3895348837209303\n",
      "SPCI 0.9534883720930233 1.8546511627906976\n",
      "UNION : 0.9883720930232558 1.9244186046511629\n"
     ]
    },
    {
     "name": "stderr",
     "output_type": "stream",
     "text": [
      "RF:  65%|██████▍   | 20/31 [10:43<06:23, 34.85s/it]"
     ]
    },
    {
     "name": "stdout",
     "output_type": "stream",
     "text": [
      "COMBINED 0.8953488372093024 1.3488372093023255\n",
      "MCP 0.9186046511627907 1.3895348837209303\n",
      "SPCI 0.8488372093023255 1.7267441860465116\n",
      "UNION : 0.9941860465116279 1.936046511627907\n"
     ]
    },
    {
     "name": "stderr",
     "output_type": "stream",
     "text": [
      "RF:  68%|██████▊   | 21/31 [11:23<06:03, 36.34s/it]"
     ]
    },
    {
     "name": "stdout",
     "output_type": "stream",
     "text": [
      "COMBINED 0.8255813953488372 1.255813953488372\n",
      "MCP 0.9186046511627907 1.3895348837209303\n",
      "SPCI 0.9011627906976745 1.802325581395349\n",
      "UNION : 1.0 1.941860465116279\n"
     ]
    },
    {
     "name": "stderr",
     "output_type": "stream",
     "text": [
      "RF:  71%|███████   | 22/31 [11:58<05:23, 35.99s/it]"
     ]
    },
    {
     "name": "stdout",
     "output_type": "stream",
     "text": [
      "COMBINED 0.8372093023255814 1.308139534883721\n",
      "MCP 0.9186046511627907 1.3895348837209303\n",
      "SPCI 0.7267441860465116 1.3895348837209303\n",
      "UNION : 0.9767441860465116 1.7906976744186047\n"
     ]
    },
    {
     "name": "stderr",
     "output_type": "stream",
     "text": [
      "RF:  74%|███████▍  | 23/31 [12:38<04:57, 37.19s/it]"
     ]
    },
    {
     "name": "stdout",
     "output_type": "stream",
     "text": [
      "COMBINED 0.7151162790697675 1.127906976744186\n",
      "MCP 0.9186046511627907 1.3895348837209303\n",
      "SPCI 0.8604651162790697 1.6511627906976745\n",
      "UNION : 0.9883720930232558 1.8837209302325582\n"
     ]
    },
    {
     "name": "stderr",
     "output_type": "stream",
     "text": [
      "RF:  77%|███████▋  | 24/31 [13:15<04:19, 37.02s/it]"
     ]
    },
    {
     "name": "stdout",
     "output_type": "stream",
     "text": [
      "COMBINED 0.8255813953488372 1.255813953488372\n",
      "MCP 0.9186046511627907 1.3895348837209303\n",
      "SPCI 0.8197674418604651 1.6046511627906976\n",
      "UNION : 0.9767441860465116 1.8662790697674418\n"
     ]
    },
    {
     "name": "stderr",
     "output_type": "stream",
     "text": [
      "RF:  81%|████████  | 25/31 [13:54<03:46, 37.67s/it]"
     ]
    },
    {
     "name": "stdout",
     "output_type": "stream",
     "text": [
      "COMBINED 0.8197674418604651 1.244186046511628\n",
      "MCP 0.9186046511627907 1.3895348837209303\n",
      "SPCI 0.9127906976744186 1.808139534883721\n",
      "UNION : 0.9941860465116279 1.941860465116279\n"
     ]
    },
    {
     "name": "stderr",
     "output_type": "stream",
     "text": [
      "RF:  84%|████████▍ | 26/31 [14:35<03:13, 38.69s/it]"
     ]
    },
    {
     "name": "stdout",
     "output_type": "stream",
     "text": [
      "COMBINED 0.872093023255814 1.3313953488372092\n",
      "MCP 0.9186046511627907 1.3895348837209303\n",
      "SPCI 0.5755813953488372 1.0\n",
      "UNION : 0.9476744186046512 1.5988372093023255\n"
     ]
    },
    {
     "name": "stderr",
     "output_type": "stream",
     "text": [
      "RF:  87%|████████▋ | 27/31 [15:14<02:35, 38.79s/it]"
     ]
    },
    {
     "name": "stdout",
     "output_type": "stream",
     "text": [
      "COMBINED 0.5755813953488372 1.0\n",
      "MCP 0.9186046511627907 1.3895348837209303\n",
      "SPCI 0.5755813953488372 1.0\n",
      "UNION : 0.9476744186046512 1.5988372093023255\n"
     ]
    },
    {
     "name": "stderr",
     "output_type": "stream",
     "text": [
      "RF:  90%|█████████ | 28/31 [15:55<01:57, 39.25s/it]"
     ]
    },
    {
     "name": "stdout",
     "output_type": "stream",
     "text": [
      "COMBINED 0.5755813953488372 1.0\n",
      "MCP 0.9186046511627907 1.3895348837209303\n",
      "SPCI 0.9767441860465116 1.9593023255813953\n",
      "UNION : 0.9941860465116279 1.9825581395348837\n"
     ]
    },
    {
     "name": "stderr",
     "output_type": "stream",
     "text": [
      "RF:  94%|█████████▎| 29/31 [16:33<01:18, 39.06s/it]"
     ]
    },
    {
     "name": "stdout",
     "output_type": "stream",
     "text": [
      "COMBINED 0.9069767441860465 1.372093023255814\n",
      "MCP 0.9186046511627907 1.3895348837209303\n",
      "SPCI 0.872093023255814 1.75\n",
      "UNION : 0.9709302325581395 1.941860465116279\n"
     ]
    },
    {
     "name": "stderr",
     "output_type": "stream",
     "text": [
      "RF:  97%|█████████▋| 30/31 [17:12<00:38, 39.00s/it]"
     ]
    },
    {
     "name": "stdout",
     "output_type": "stream",
     "text": [
      "COMBINED 0.8604651162790697 1.2732558139534884\n",
      "MCP 0.9186046511627907 1.3895348837209303\n",
      "SPCI 0.5755813953488372 1.0\n",
      "UNION : 0.9476744186046512 1.5988372093023255\n"
     ]
    },
    {
     "name": "stderr",
     "output_type": "stream",
     "text": [
      "RF: 100%|██████████| 31/31 [17:44<00:00, 34.35s/it]\n"
     ]
    },
    {
     "name": "stdout",
     "output_type": "stream",
     "text": [
      "COMBINED 0.5755813953488372 1.0\n"
     ]
    },
    {
     "name": "stderr",
     "output_type": "stream",
     "text": [
      "LR:   0%|          | 0/31 [00:00<?, ?it/s]"
     ]
    },
    {
     "name": "stdout",
     "output_type": "stream",
     "text": [
      "MCP 0.9186046511627907 1.5\n",
      "SPCI 0.7790697674418605 1.5930232558139534\n",
      "UNION : 0.9883720930232558 1.9069767441860466\n"
     ]
    },
    {
     "name": "stderr",
     "output_type": "stream",
     "text": [
      "LR:   3%|▎         | 1/31 [00:42<21:18, 42.62s/it]"
     ]
    },
    {
     "name": "stdout",
     "output_type": "stream",
     "text": [
      "COMBINED 0.75 1.2848837209302326\n",
      "MCP 0.9302325581395349 1.494186046511628\n",
      "SPCI 0.9593023255813954 1.7732558139534884\n",
      "UNION : 0.9825581395348837 1.8662790697674418\n"
     ]
    },
    {
     "name": "stderr",
     "output_type": "stream",
     "text": [
      "LR:   6%|▋         | 2/31 [01:24<20:24, 42.23s/it]"
     ]
    },
    {
     "name": "stdout",
     "output_type": "stream",
     "text": [
      "COMBINED 0.9127906976744186 1.4186046511627908\n",
      "MCP 0.9302325581395349 1.494186046511628\n",
      "SPCI 0.9767441860465116 1.930232558139535\n",
      "UNION : 0.9941860465116279 1.9709302325581395\n"
     ]
    },
    {
     "name": "stderr",
     "output_type": "stream",
     "text": [
      "LR:  10%|▉         | 3/31 [01:42<14:31, 31.11s/it]"
     ]
    },
    {
     "name": "stdout",
     "output_type": "stream",
     "text": [
      "COMBINED 0.9186046511627907 1.4709302325581395\n",
      "MCP 0.9244186046511628 1.4593023255813953\n",
      "SPCI 0.9767441860465116 1.9069767441860466\n",
      "UNION : 0.9941860465116279 1.9534883720930232\n"
     ]
    },
    {
     "name": "stderr",
     "output_type": "stream",
     "text": [
      "LR:  13%|█▎        | 4/31 [02:08<13:01, 28.94s/it]"
     ]
    },
    {
     "name": "stdout",
     "output_type": "stream",
     "text": [
      "COMBINED 0.9127906976744186 1.4534883720930232\n",
      "MCP 0.9244186046511628 1.4593023255813953\n",
      "SPCI 0.9709302325581395 1.9069767441860466\n",
      "UNION : 1.0 1.9593023255813953\n"
     ]
    },
    {
     "name": "stderr",
     "output_type": "stream",
     "text": [
      "LR:  16%|█▌        | 5/31 [02:42<13:27, 31.08s/it]"
     ]
    },
    {
     "name": "stdout",
     "output_type": "stream",
     "text": [
      "COMBINED 0.8953488372093024 1.430232558139535\n",
      "MCP 0.9244186046511628 1.4593023255813953\n",
      "SPCI 0.9651162790697675 1.9069767441860466\n",
      "UNION : 1.0 1.9651162790697674\n"
     ]
    },
    {
     "name": "stderr",
     "output_type": "stream",
     "text": [
      "LR:  19%|█▉        | 6/31 [03:16<13:20, 32.02s/it]"
     ]
    },
    {
     "name": "stdout",
     "output_type": "stream",
     "text": [
      "COMBINED 0.8953488372093024 1.447674418604651\n",
      "MCP 0.9244186046511628 1.4593023255813953\n",
      "SPCI 0.9883720930232558 1.9767441860465116\n",
      "UNION : 1.0 1.994186046511628\n"
     ]
    },
    {
     "name": "stderr",
     "output_type": "stream",
     "text": [
      "LR:  23%|██▎       | 7/31 [03:52<13:15, 33.15s/it]"
     ]
    },
    {
     "name": "stdout",
     "output_type": "stream",
     "text": [
      "COMBINED 0.9127906976744186 1.447674418604651\n",
      "MCP 0.9244186046511628 1.4593023255813953\n",
      "SPCI 0.5755813953488372 1.0\n",
      "UNION : 0.9534883720930233 1.6453488372093024\n"
     ]
    },
    {
     "name": "stderr",
     "output_type": "stream",
     "text": [
      "LR:  26%|██▌       | 8/31 [04:25<12:44, 33.23s/it]"
     ]
    },
    {
     "name": "stdout",
     "output_type": "stream",
     "text": [
      "COMBINED 0.5755813953488372 1.0\n",
      "MCP 0.9244186046511628 1.4593023255813953\n",
      "SPCI 0.5755813953488372 1.0\n",
      "UNION : 0.9534883720930233 1.6453488372093024\n"
     ]
    },
    {
     "name": "stderr",
     "output_type": "stream",
     "text": [
      "LR:  29%|██▉       | 9/31 [05:02<12:39, 34.50s/it]"
     ]
    },
    {
     "name": "stdout",
     "output_type": "stream",
     "text": [
      "COMBINED 0.5755813953488372 1.0\n",
      "MCP 0.9244186046511628 1.4593023255813953\n",
      "SPCI 0.5755813953488372 1.0\n",
      "UNION : 0.9534883720930233 1.6453488372093024\n"
     ]
    },
    {
     "name": "stderr",
     "output_type": "stream",
     "text": [
      "LR:  32%|███▏      | 10/31 [05:33<11:40, 33.36s/it]"
     ]
    },
    {
     "name": "stdout",
     "output_type": "stream",
     "text": [
      "COMBINED 0.5755813953488372 1.0\n",
      "MCP 0.9244186046511628 1.4593023255813953\n",
      "SPCI 0.6686046511627907 1.3313953488372092\n",
      "UNION : 0.9534883720930233 1.7790697674418605\n"
     ]
    },
    {
     "name": "stderr",
     "output_type": "stream",
     "text": [
      "LR:  35%|███▌      | 11/31 [06:13<11:43, 35.18s/it]"
     ]
    },
    {
     "name": "stdout",
     "output_type": "stream",
     "text": [
      "COMBINED 0.6976744186046512 1.1686046511627908\n",
      "MCP 0.9244186046511628 1.4593023255813953\n",
      "SPCI 0.9941860465116279 1.9709302325581395\n",
      "UNION : 1.0 1.9825581395348837\n"
     ]
    },
    {
     "name": "stderr",
     "output_type": "stream",
     "text": [
      "LR:  39%|███▊      | 12/31 [06:43<10:40, 33.69s/it]"
     ]
    },
    {
     "name": "stdout",
     "output_type": "stream",
     "text": [
      "COMBINED 0.9186046511627907 1.4651162790697674\n",
      "MCP 0.9244186046511628 1.4593023255813953\n",
      "SPCI 0.9941860465116279 1.9709302325581395\n",
      "UNION : 1.0 1.994186046511628\n"
     ]
    },
    {
     "name": "stderr",
     "output_type": "stream",
     "text": [
      "LR:  42%|████▏     | 13/31 [06:52<07:53, 26.32s/it]"
     ]
    },
    {
     "name": "stdout",
     "output_type": "stream",
     "text": [
      "COMBINED 0.9244186046511628 1.441860465116279\n",
      "MCP 0.9244186046511628 1.4593023255813953\n",
      "SPCI 0.9709302325581395 1.936046511627907\n",
      "UNION : 1.0 1.9883720930232558\n"
     ]
    },
    {
     "name": "stderr",
     "output_type": "stream",
     "text": [
      "LR:  45%|████▌     | 14/31 [07:24<07:55, 27.98s/it]"
     ]
    },
    {
     "name": "stdout",
     "output_type": "stream",
     "text": [
      "COMBINED 0.9011627906976745 1.4244186046511629\n",
      "MCP 0.9244186046511628 1.4593023255813953\n",
      "SPCI 0.6627906976744186 1.25\n",
      "UNION : 0.9593023255813954 1.7732558139534884\n"
     ]
    },
    {
     "name": "stderr",
     "output_type": "stream",
     "text": [
      "LR:  48%|████▊     | 15/31 [07:53<07:33, 28.32s/it]"
     ]
    },
    {
     "name": "stdout",
     "output_type": "stream",
     "text": [
      "COMBINED 0.6569767441860465 1.0988372093023255\n",
      "MCP 0.9244186046511628 1.4593023255813953\n",
      "SPCI 0.8197674418604651 1.6337209302325582\n",
      "UNION : 1.0 1.947674418604651\n"
     ]
    },
    {
     "name": "stderr",
     "output_type": "stream",
     "text": [
      "LR:  52%|█████▏    | 16/31 [08:26<07:26, 29.79s/it]"
     ]
    },
    {
     "name": "stdout",
     "output_type": "stream",
     "text": [
      "COMBINED 0.7790697674418605 1.2267441860465116\n",
      "MCP 0.9244186046511628 1.4593023255813953\n",
      "SPCI 0.5755813953488372 1.0\n",
      "UNION : 0.9534883720930233 1.6453488372093024\n"
     ]
    },
    {
     "name": "stderr",
     "output_type": "stream",
     "text": [
      "LR:  55%|█████▍    | 17/31 [08:59<07:08, 30.63s/it]"
     ]
    },
    {
     "name": "stdout",
     "output_type": "stream",
     "text": [
      "COMBINED 0.5755813953488372 1.0\n",
      "MCP 0.9244186046511628 1.4593023255813953\n",
      "SPCI 0.5755813953488372 1.0\n",
      "UNION : 0.9534883720930233 1.6453488372093024\n"
     ]
    },
    {
     "name": "stderr",
     "output_type": "stream",
     "text": [
      "LR:  58%|█████▊    | 18/31 [09:33<06:52, 31.73s/it]"
     ]
    },
    {
     "name": "stdout",
     "output_type": "stream",
     "text": [
      "COMBINED 0.5755813953488372 1.0\n",
      "MCP 0.9244186046511628 1.4593023255813953\n",
      "SPCI 0.7674418604651163 1.4593023255813953\n",
      "UNION : 0.9767441860465116 1.813953488372093\n"
     ]
    },
    {
     "name": "stderr",
     "output_type": "stream",
     "text": [
      "LR:  61%|██████▏   | 19/31 [10:09<06:34, 32.90s/it]"
     ]
    },
    {
     "name": "stdout",
     "output_type": "stream",
     "text": [
      "COMBINED 0.7441860465116279 1.2383720930232558\n",
      "MCP 0.9244186046511628 1.4593023255813953\n",
      "SPCI 0.9534883720930233 1.8546511627906976\n",
      "UNION : 0.9941860465116279 1.947674418604651\n"
     ]
    },
    {
     "name": "stderr",
     "output_type": "stream",
     "text": [
      "LR:  65%|██████▍   | 20/31 [10:44<06:09, 33.59s/it]"
     ]
    },
    {
     "name": "stdout",
     "output_type": "stream",
     "text": [
      "COMBINED 0.8895348837209303 1.4069767441860466\n",
      "MCP 0.9244186046511628 1.4593023255813953\n",
      "SPCI 0.8488372093023255 1.7267441860465116\n",
      "UNION : 0.9825581395348837 1.936046511627907\n"
     ]
    },
    {
     "name": "stderr",
     "output_type": "stream",
     "text": [
      "LR:  68%|██████▊   | 21/31 [11:17<05:32, 33.25s/it]"
     ]
    },
    {
     "name": "stdout",
     "output_type": "stream",
     "text": [
      "COMBINED 0.8023255813953488 1.3255813953488371\n",
      "MCP 0.9244186046511628 1.4593023255813953\n",
      "SPCI 0.9011627906976745 1.802325581395349\n",
      "UNION : 0.9883720930232558 1.930232558139535\n"
     ]
    },
    {
     "name": "stderr",
     "output_type": "stream",
     "text": [
      "LR:  71%|███████   | 22/31 [11:53<05:07, 34.19s/it]"
     ]
    },
    {
     "name": "stdout",
     "output_type": "stream",
     "text": [
      "COMBINED 0.8546511627906976 1.3895348837209303\n",
      "MCP 0.9244186046511628 1.4593023255813953\n",
      "SPCI 0.7267441860465116 1.3895348837209303\n",
      "UNION : 0.9825581395348837 1.813953488372093\n"
     ]
    },
    {
     "name": "stderr",
     "output_type": "stream",
     "text": [
      "LR:  74%|███████▍  | 23/31 [12:29<04:37, 34.67s/it]"
     ]
    },
    {
     "name": "stdout",
     "output_type": "stream",
     "text": [
      "COMBINED 0.7209302325581395 1.2325581395348837\n",
      "MCP 0.9244186046511628 1.4593023255813953\n",
      "SPCI 0.8604651162790697 1.6511627906976745\n",
      "UNION : 0.9941860465116279 1.9069767441860466\n"
     ]
    },
    {
     "name": "stderr",
     "output_type": "stream",
     "text": [
      "LR:  77%|███████▋  | 24/31 [13:00<03:55, 33.63s/it]"
     ]
    },
    {
     "name": "stdout",
     "output_type": "stream",
     "text": [
      "COMBINED 0.813953488372093 1.25\n",
      "MCP 0.9244186046511628 1.4593023255813953\n",
      "SPCI 0.8197674418604651 1.6046511627906976\n",
      "UNION : 0.9883720930232558 1.9186046511627908\n"
     ]
    },
    {
     "name": "stderr",
     "output_type": "stream",
     "text": [
      "LR:  81%|████████  | 25/31 [13:33<03:21, 33.53s/it]"
     ]
    },
    {
     "name": "stdout",
     "output_type": "stream",
     "text": [
      "COMBINED 0.7906976744186046 1.2325581395348837\n",
      "MCP 0.9244186046511628 1.4593023255813953\n",
      "SPCI 0.9127906976744186 1.808139534883721\n",
      "UNION : 1.0 1.9593023255813953\n"
     ]
    },
    {
     "name": "stderr",
     "output_type": "stream",
     "text": [
      "LR:  84%|████████▍ | 26/31 [14:04<02:43, 32.62s/it]"
     ]
    },
    {
     "name": "stdout",
     "output_type": "stream",
     "text": [
      "COMBINED 0.8662790697674418 1.3604651162790697\n",
      "MCP 0.9244186046511628 1.4593023255813953\n",
      "SPCI 0.5755813953488372 1.0\n",
      "UNION : 0.9534883720930233 1.6453488372093024\n"
     ]
    },
    {
     "name": "stderr",
     "output_type": "stream",
     "text": [
      "LR:  87%|████████▋ | 27/31 [14:43<02:18, 34.69s/it]"
     ]
    },
    {
     "name": "stdout",
     "output_type": "stream",
     "text": [
      "COMBINED 0.5755813953488372 1.0\n",
      "MCP 0.9244186046511628 1.4593023255813953\n",
      "SPCI 0.5755813953488372 1.0\n",
      "UNION : 0.9534883720930233 1.6453488372093024\n"
     ]
    },
    {
     "name": "stderr",
     "output_type": "stream",
     "text": [
      "LR:  90%|█████████ | 28/31 [15:20<01:45, 35.33s/it]"
     ]
    },
    {
     "name": "stdout",
     "output_type": "stream",
     "text": [
      "COMBINED 0.5755813953488372 1.0\n",
      "MCP 0.9244186046511628 1.4593023255813953\n",
      "SPCI 0.9767441860465116 1.9593023255813953\n",
      "UNION : 1.0 1.9825581395348837\n"
     ]
    },
    {
     "name": "stderr",
     "output_type": "stream",
     "text": [
      "LR:  94%|█████████▎| 29/31 [15:55<01:10, 35.20s/it]"
     ]
    },
    {
     "name": "stdout",
     "output_type": "stream",
     "text": [
      "COMBINED 0.9069767441860465 1.447674418604651\n",
      "MCP 0.9244186046511628 1.4593023255813953\n",
      "SPCI 0.872093023255814 1.75\n",
      "UNION : 0.9825581395348837 1.9534883720930232\n"
     ]
    },
    {
     "name": "stderr",
     "output_type": "stream",
     "text": [
      "LR:  97%|█████████▋| 30/31 [16:26<00:33, 33.84s/it]"
     ]
    },
    {
     "name": "stdout",
     "output_type": "stream",
     "text": [
      "COMBINED 0.8488372093023255 1.313953488372093\n",
      "MCP 0.9244186046511628 1.4593023255813953\n",
      "SPCI 0.5755813953488372 1.0\n",
      "UNION : 0.9534883720930233 1.6453488372093024\n"
     ]
    },
    {
     "name": "stderr",
     "output_type": "stream",
     "text": [
      "LR: 100%|██████████| 31/31 [16:58<00:00, 32.85s/it]\n"
     ]
    },
    {
     "name": "stdout",
     "output_type": "stream",
     "text": [
      "COMBINED 0.5755813953488372 1.0\n"
     ]
    },
    {
     "name": "stderr",
     "output_type": "stream",
     "text": [
      "GB:   0%|          | 0/31 [00:00<?, ?it/s]"
     ]
    },
    {
     "name": "stdout",
     "output_type": "stream",
     "text": [
      "MCP 0.9302325581395349 1.4244186046511629\n",
      "SPCI 0.7790697674418605 1.5930232558139534\n",
      "UNION : 0.9767441860465116 1.8895348837209303\n"
     ]
    },
    {
     "name": "stderr",
     "output_type": "stream",
     "text": [
      "GB:   3%|▎         | 1/31 [00:24<12:04, 24.14s/it]"
     ]
    },
    {
     "name": "stdout",
     "output_type": "stream",
     "text": [
      "COMBINED 0.7848837209302325 1.2209302325581395\n",
      "MCP 0.936046511627907 1.436046511627907\n",
      "SPCI 0.9593023255813954 1.7732558139534884\n",
      "UNION : 1.0 1.8837209302325582\n"
     ]
    },
    {
     "name": "stderr",
     "output_type": "stream",
     "text": [
      "GB:   6%|▋         | 2/31 [01:03<16:04, 33.27s/it]"
     ]
    },
    {
     "name": "stdout",
     "output_type": "stream",
     "text": [
      "COMBINED 0.8953488372093024 1.3546511627906976\n",
      "MCP 0.936046511627907 1.436046511627907\n",
      "SPCI 0.9767441860465116 1.930232558139535\n",
      "UNION : 1.0 1.9651162790697674\n"
     ]
    },
    {
     "name": "stderr",
     "output_type": "stream",
     "text": [
      "GB:  10%|▉         | 3/31 [01:33<14:50, 31.79s/it]"
     ]
    },
    {
     "name": "stdout",
     "output_type": "stream",
     "text": [
      "COMBINED 0.9244186046511628 1.430232558139535\n",
      "MCP 0.9418604651162791 1.4534883720930232\n",
      "SPCI 0.9767441860465116 1.9069767441860466\n",
      "UNION : 1.0 1.9534883720930232\n"
     ]
    },
    {
     "name": "stderr",
     "output_type": "stream",
     "text": [
      "GB:  13%|█▎        | 4/31 [01:43<10:17, 22.87s/it]"
     ]
    },
    {
     "name": "stdout",
     "output_type": "stream",
     "text": [
      "COMBINED 0.9302325581395349 1.447674418604651\n",
      "MCP 0.9418604651162791 1.4534883720930232\n",
      "SPCI 0.9709302325581395 1.9069767441860466\n",
      "UNION : 1.0 1.9534883720930232\n"
     ]
    },
    {
     "name": "stderr",
     "output_type": "stream",
     "text": [
      "GB:  16%|█▌        | 5/31 [01:52<07:45, 17.90s/it]"
     ]
    },
    {
     "name": "stdout",
     "output_type": "stream",
     "text": [
      "COMBINED 0.9186046511627907 1.4534883720930232\n",
      "MCP 0.9418604651162791 1.4534883720930232\n",
      "SPCI 0.9651162790697675 1.9069767441860466\n",
      "UNION : 0.9941860465116279 1.9593023255813953\n"
     ]
    },
    {
     "name": "stderr",
     "output_type": "stream",
     "text": [
      "GB:  19%|█▉        | 6/31 [02:01<06:13, 14.95s/it]"
     ]
    },
    {
     "name": "stdout",
     "output_type": "stream",
     "text": [
      "COMBINED 0.9244186046511628 1.4593023255813953\n",
      "MCP 0.9418604651162791 1.4534883720930232\n",
      "SPCI 0.9883720930232558 1.9767441860465116\n",
      "UNION : 1.0 1.994186046511628\n"
     ]
    },
    {
     "name": "stderr",
     "output_type": "stream",
     "text": [
      "GB:  23%|██▎       | 7/31 [02:10<05:12, 13.02s/it]"
     ]
    },
    {
     "name": "stdout",
     "output_type": "stream",
     "text": [
      "COMBINED 0.936046511627907 1.4534883720930232\n",
      "MCP 0.9418604651162791 1.4534883720930232\n",
      "SPCI 0.5755813953488372 1.0\n",
      "UNION : 0.9767441860465116 1.6395348837209303\n"
     ]
    },
    {
     "name": "stderr",
     "output_type": "stream",
     "text": [
      "GB:  26%|██▌       | 8/31 [02:20<04:34, 11.94s/it]"
     ]
    },
    {
     "name": "stdout",
     "output_type": "stream",
     "text": [
      "COMBINED 0.5755813953488372 1.0\n",
      "MCP 0.9418604651162791 1.4534883720930232\n",
      "SPCI 0.5755813953488372 1.0\n",
      "UNION : 0.9767441860465116 1.6395348837209303\n"
     ]
    },
    {
     "name": "stderr",
     "output_type": "stream",
     "text": [
      "GB:  29%|██▉       | 9/31 [02:29<04:08, 11.31s/it]"
     ]
    },
    {
     "name": "stdout",
     "output_type": "stream",
     "text": [
      "COMBINED 0.5755813953488372 1.0\n",
      "MCP 0.9418604651162791 1.4534883720930232\n",
      "SPCI 0.5755813953488372 1.0\n",
      "UNION : 0.9767441860465116 1.6395348837209303\n"
     ]
    },
    {
     "name": "stderr",
     "output_type": "stream",
     "text": [
      "GB:  32%|███▏      | 10/31 [02:57<05:40, 16.23s/it]"
     ]
    },
    {
     "name": "stdout",
     "output_type": "stream",
     "text": [
      "COMBINED 0.5755813953488372 1.0\n",
      "MCP 0.9418604651162791 1.4534883720930232\n",
      "SPCI 0.6686046511627907 1.3313953488372092\n",
      "UNION : 0.9825581395348837 1.808139534883721\n"
     ]
    },
    {
     "name": "stderr",
     "output_type": "stream",
     "text": [
      "GB:  35%|███▌      | 11/31 [03:30<07:06, 21.31s/it]"
     ]
    },
    {
     "name": "stdout",
     "output_type": "stream",
     "text": [
      "COMBINED 0.6686046511627907 1.1453488372093024\n",
      "MCP 0.9418604651162791 1.4534883720930232\n",
      "SPCI 0.9941860465116279 1.9709302325581395\n",
      "UNION : 1.0 1.9883720930232558\n"
     ]
    },
    {
     "name": "stderr",
     "output_type": "stream",
     "text": [
      "GB:  39%|███▊      | 12/31 [04:01<07:43, 24.40s/it]"
     ]
    },
    {
     "name": "stdout",
     "output_type": "stream",
     "text": [
      "COMBINED 0.936046511627907 1.441860465116279\n",
      "MCP 0.9418604651162791 1.4534883720930232\n",
      "SPCI 0.9941860465116279 1.9709302325581395\n",
      "UNION : 1.0 1.9883720930232558\n"
     ]
    },
    {
     "name": "stderr",
     "output_type": "stream",
     "text": [
      "GB:  42%|████▏     | 13/31 [04:32<07:57, 26.52s/it]"
     ]
    },
    {
     "name": "stdout",
     "output_type": "stream",
     "text": [
      "COMBINED 0.9418604651162791 1.4593023255813953\n",
      "MCP 0.9418604651162791 1.4534883720930232\n",
      "SPCI 0.9709302325581395 1.936046511627907\n",
      "UNION : 0.9941860465116279 1.9767441860465116\n"
     ]
    },
    {
     "name": "stderr",
     "output_type": "stream",
     "text": [
      "GB:  45%|████▌     | 14/31 [04:42<06:01, 21.26s/it]"
     ]
    },
    {
     "name": "stdout",
     "output_type": "stream",
     "text": [
      "COMBINED 0.9244186046511628 1.430232558139535\n",
      "MCP 0.9418604651162791 1.4534883720930232\n",
      "SPCI 0.6627906976744186 1.25\n",
      "UNION : 0.9825581395348837 1.7674418604651163\n"
     ]
    },
    {
     "name": "stderr",
     "output_type": "stream",
     "text": [
      "GB:  48%|████▊     | 15/31 [04:51<04:41, 17.62s/it]"
     ]
    },
    {
     "name": "stdout",
     "output_type": "stream",
     "text": [
      "COMBINED 0.6569767441860465 1.0988372093023255\n",
      "MCP 0.9418604651162791 1.4534883720930232\n",
      "SPCI 0.8197674418604651 1.6337209302325582\n",
      "UNION : 0.9941860465116279 1.9244186046511629\n"
     ]
    },
    {
     "name": "stderr",
     "output_type": "stream",
     "text": [
      "GB:  52%|█████▏    | 16/31 [05:00<03:46, 15.08s/it]"
     ]
    },
    {
     "name": "stdout",
     "output_type": "stream",
     "text": [
      "COMBINED 0.7965116279069767 1.255813953488372\n",
      "MCP 0.9418604651162791 1.4534883720930232\n",
      "SPCI 0.5755813953488372 1.0\n",
      "UNION : 0.9767441860465116 1.6395348837209303\n"
     ]
    },
    {
     "name": "stderr",
     "output_type": "stream",
     "text": [
      "GB:  55%|█████▍    | 17/31 [05:09<03:05, 13.28s/it]"
     ]
    },
    {
     "name": "stdout",
     "output_type": "stream",
     "text": [
      "COMBINED 0.5755813953488372 1.0\n",
      "MCP 0.9418604651162791 1.4534883720930232\n",
      "SPCI 0.5755813953488372 1.0\n",
      "UNION : 0.9767441860465116 1.6395348837209303\n"
     ]
    },
    {
     "name": "stderr",
     "output_type": "stream",
     "text": [
      "GB:  58%|█████▊    | 18/31 [05:18<02:36, 12.03s/it]"
     ]
    },
    {
     "name": "stdout",
     "output_type": "stream",
     "text": [
      "COMBINED 0.5755813953488372 1.0\n",
      "MCP 0.9418604651162791 1.4534883720930232\n",
      "SPCI 0.7674418604651163 1.4593023255813953\n",
      "UNION : 0.9883720930232558 1.8313953488372092\n"
     ]
    },
    {
     "name": "stderr",
     "output_type": "stream",
     "text": [
      "GB:  61%|██████▏   | 19/31 [05:27<02:13, 11.14s/it]"
     ]
    },
    {
     "name": "stdout",
     "output_type": "stream",
     "text": [
      "COMBINED 0.75 1.2034883720930232\n",
      "MCP 0.9418604651162791 1.4534883720930232\n",
      "SPCI 0.9534883720930233 1.8546511627906976\n",
      "UNION : 0.9941860465116279 1.930232558139535\n"
     ]
    },
    {
     "name": "stderr",
     "output_type": "stream",
     "text": [
      "GB:  65%|██████▍   | 20/31 [05:36<01:55, 10.52s/it]"
     ]
    },
    {
     "name": "stdout",
     "output_type": "stream",
     "text": [
      "COMBINED 0.9302325581395349 1.4534883720930232\n",
      "MCP 0.9418604651162791 1.4534883720930232\n",
      "SPCI 0.8488372093023255 1.7267441860465116\n",
      "UNION : 0.9941860465116279 1.930232558139535\n"
     ]
    },
    {
     "name": "stderr",
     "output_type": "stream",
     "text": [
      "GB:  68%|██████▊   | 21/31 [05:45<01:40, 10.08s/it]"
     ]
    },
    {
     "name": "stdout",
     "output_type": "stream",
     "text": [
      "COMBINED 0.8372093023255814 1.3546511627906976\n",
      "MCP 0.9418604651162791 1.4534883720930232\n",
      "SPCI 0.9011627906976745 1.802325581395349\n",
      "UNION : 1.0 1.941860465116279\n"
     ]
    },
    {
     "name": "stderr",
     "output_type": "stream",
     "text": [
      "GB:  71%|███████   | 22/31 [05:54<01:27,  9.77s/it]"
     ]
    },
    {
     "name": "stdout",
     "output_type": "stream",
     "text": [
      "COMBINED 0.877906976744186 1.4069767441860466\n",
      "MCP 0.9418604651162791 1.4534883720930232\n",
      "SPCI 0.7267441860465116 1.3895348837209303\n",
      "UNION : 0.9825581395348837 1.7965116279069768\n"
     ]
    },
    {
     "name": "stderr",
     "output_type": "stream",
     "text": [
      "GB:  74%|███████▍  | 23/31 [06:03<01:16,  9.56s/it]"
     ]
    },
    {
     "name": "stdout",
     "output_type": "stream",
     "text": [
      "COMBINED 0.7209302325581395 1.2267441860465116\n",
      "MCP 0.9418604651162791 1.4534883720930232\n",
      "SPCI 0.8604651162790697 1.6511627906976745\n",
      "UNION : 0.9941860465116279 1.8953488372093024\n"
     ]
    },
    {
     "name": "stderr",
     "output_type": "stream",
     "text": [
      "GB:  77%|███████▋  | 24/31 [06:13<01:05,  9.43s/it]"
     ]
    },
    {
     "name": "stdout",
     "output_type": "stream",
     "text": [
      "COMBINED 0.8255813953488372 1.2906976744186047\n",
      "MCP 0.9418604651162791 1.4534883720930232\n",
      "SPCI 0.8197674418604651 1.6046511627906976\n",
      "UNION : 0.9883720930232558 1.877906976744186\n"
     ]
    },
    {
     "name": "stderr",
     "output_type": "stream",
     "text": [
      "GB:  81%|████████  | 25/31 [06:22<00:56,  9.40s/it]"
     ]
    },
    {
     "name": "stdout",
     "output_type": "stream",
     "text": [
      "COMBINED 0.813953488372093 1.2906976744186047\n",
      "MCP 0.9418604651162791 1.4534883720930232\n",
      "SPCI 0.9127906976744186 1.808139534883721\n",
      "UNION : 0.9941860465116279 1.936046511627907\n"
     ]
    },
    {
     "name": "stderr",
     "output_type": "stream",
     "text": [
      "GB:  84%|████████▍ | 26/31 [06:31<00:46,  9.34s/it]"
     ]
    },
    {
     "name": "stdout",
     "output_type": "stream",
     "text": [
      "COMBINED 0.8837209302325582 1.377906976744186\n",
      "MCP 0.9418604651162791 1.4534883720930232\n",
      "SPCI 0.5755813953488372 1.0\n",
      "UNION : 0.9767441860465116 1.6395348837209303\n"
     ]
    },
    {
     "name": "stderr",
     "output_type": "stream",
     "text": [
      "GB:  87%|████████▋ | 27/31 [06:40<00:37,  9.25s/it]"
     ]
    },
    {
     "name": "stdout",
     "output_type": "stream",
     "text": [
      "COMBINED 0.5755813953488372 1.0\n",
      "MCP 0.9418604651162791 1.4534883720930232\n",
      "SPCI 0.5755813953488372 1.0\n",
      "UNION : 0.9767441860465116 1.6395348837209303\n"
     ]
    },
    {
     "name": "stderr",
     "output_type": "stream",
     "text": [
      "GB:  90%|█████████ | 28/31 [06:49<00:27,  9.24s/it]"
     ]
    },
    {
     "name": "stdout",
     "output_type": "stream",
     "text": [
      "COMBINED 0.5755813953488372 1.0\n",
      "MCP 0.9418604651162791 1.4534883720930232\n",
      "SPCI 0.9767441860465116 1.9593023255813953\n",
      "UNION : 1.0 1.9883720930232558\n"
     ]
    },
    {
     "name": "stderr",
     "output_type": "stream",
     "text": [
      "GB:  94%|█████████▎| 29/31 [06:59<00:18,  9.25s/it]"
     ]
    },
    {
     "name": "stdout",
     "output_type": "stream",
     "text": [
      "COMBINED 0.9302325581395349 1.4593023255813953\n",
      "MCP 0.9418604651162791 1.4534883720930232\n",
      "SPCI 0.872093023255814 1.75\n",
      "UNION : 0.9883720930232558 1.9534883720930232\n"
     ]
    },
    {
     "name": "stderr",
     "output_type": "stream",
     "text": [
      "GB:  97%|█████████▋| 30/31 [07:08<00:09,  9.41s/it]"
     ]
    },
    {
     "name": "stdout",
     "output_type": "stream",
     "text": [
      "COMBINED 0.8546511627906976 1.3372093023255813\n",
      "MCP 0.9418604651162791 1.4534883720930232\n",
      "SPCI 0.5755813953488372 1.0\n",
      "UNION : 0.9767441860465116 1.6395348837209303\n"
     ]
    },
    {
     "name": "stderr",
     "output_type": "stream",
     "text": [
      "GB: 100%|██████████| 31/31 [07:18<00:00, 14.15s/it]"
     ]
    },
    {
     "name": "stdout",
     "output_type": "stream",
     "text": [
      "COMBINED 0.5755813953488372 1.0\n"
     ]
    },
    {
     "name": "stderr",
     "output_type": "stream",
     "text": [
      "\n"
     ]
    }
   ],
   "source": [
    "# -----------------------------------------------------------------------------\n",
    "# Configuration & constants\n",
    "# -----------------------------------------------------------------------------\n",
    "RANDOM_STATE: int = 42            # Ensures full reproducibility\n",
    "ALPHA: float = 0.05               # Target mis-coverage level\n",
    "W: int = 11                        # Sliding-window size\n",
    "nan_fill = 0\n",
    "threshold = 2.0\n",
    "\n",
    "# -----------------------------------------------------------------------------\n",
    "# Data preparation\n",
    "# -----------------------------------------------------------------------------\n",
    "DF = dfng.copy()\n",
    "DF.fillna(nan_fill, inplace=True)\n",
    "DF.reset_index(drop=True, inplace=True)\n",
    "Y_TARGET = DF['dropout'].astype(int)\n",
    "item_cols = [c for c in DF.columns if c.startswith(\"Item\")]\n",
    "item_pref = [f\"Item {i}\" for i in range(1,43)]\n",
    "# 2) Définir les “préfixes” comme étant ces noms de colonnes\n",
    "#    (on parcourt ensuite 1 à len(prefixes) pour ajouter les items un à un)\n",
    "prefixes = item_pref.copy()\n",
    "static_cols = [\n",
    "c for c in DF.columns\n",
    "if c not in item_cols + [\"student_id\", \"email\", \"dropout\", \"source\", \"cluster\"]\n",
    "]\n",
    "DF.drop(columns='dropout', inplace=True)\n",
    "loaded_models = models2sp\n",
    "# -----------------------------------------------------------------------------\n",
    "# Base models\n",
    "# -----------------------------------------------------------------------------\n",
    "MODELS: Dict[str, object] = {\n",
    "    \"RF\": RandomForestClassifier(\n",
    "        n_estimators=1000,\n",
    "        min_samples_leaf=2,\n",
    "        class_weight=\"balanced\",\n",
    "        n_jobs=-1,\n",
    "        random_state=RANDOM_STATE,\n",
    "    ),\n",
    "    \"LR\": LogisticRegression(\n",
    "        max_iter=1000,\n",
    "        class_weight=\"balanced\",\n",
    "        n_jobs=-1,\n",
    "        random_state=RANDOM_STATE,\n",
    "    ),\n",
    "    \"GB\": GradientBoostingClassifier(random_state=RANDOM_STATE),\n",
    "}\n",
    "\n",
    "# -----------------------------------------------------------------------------\n",
    "# Conformal prediction evaluation loop\n",
    "# -----------------------------------------------------------------------------\n",
    "from tqdm import tqdm\n",
    "\n",
    "res_fin_port: List[pd.DataFrame] = []\n",
    "\n",
    "for name, base_clf in MODELS.items():\n",
    "    covs_MCP, width_MCP = [], []\n",
    "    covs_SPCI, width_SPCI = [], []\n",
    "    covs_comb, width_comb = [], []\n",
    "    covs_union,  width_union  = [], []\n",
    "    for n in tqdm(range(W, len(item_pref)), desc=name):\n",
    "        gate_clf = RandomForestClassifier(\n",
    "            n_estimators=300,\n",
    "            max_depth=None,\n",
    "            class_weight=\"balanced\",\n",
    "            random_state=RANDOM_STATE,\n",
    "            n_jobs=-1,\n",
    "        )\n",
    "        # 1) split train / tmp / test\n",
    "        idx_tmp, idx_test, y_tmp, y_test, cl_tmp, cl_test = train_test_split(\n",
    "            DF.index, Y_TARGET, DF[\"cluster\"],\n",
    "            test_size=0.20,\n",
    "            stratify=Y_TARGET,\n",
    "            random_state=RANDOM_STATE,\n",
    "        )\n",
    "        idx_tr, idx_cal, y_tr, y_cal, cl_tr, cl_cal = train_test_split(\n",
    "            idx_tmp, y_tmp, cl_tmp,\n",
    "            test_size=0.40/0.80,\n",
    "            stratify=y_tmp,\n",
    "            random_state=RANDOM_STATE,\n",
    "        )\n",
    "        # **nouveau** split en deux pour CP vs gate\n",
    "        idx_cal_cp, idx_cal_gate, y_cal_cp, y_cal_gate, cl_cal_cp, cl_cal_gate = train_test_split(\n",
    "            idx_cal, y_cal, cl_cal,\n",
    "            test_size=0.5,\n",
    "            stratify=y_cal,\n",
    "            random_state=RANDOM_STATE,\n",
    "        )\n",
    "        y_cal_cp   = np.array(y_cal_cp)\n",
    "        y_cal_gate = np.array(y_cal_gate)\n",
    "        y_test     = np.array(y_test)\n",
    "        # mask des “réels” pour toutes les évaluations\n",
    "        mask_real = DF.loc[idx_test, \"source\"] == \"real\"\n",
    "\n",
    "        # 2) build features\n",
    "        X_tr        = build_X_(DF.loc[idx_tr],       item_cols, static_cols, n)\n",
    "        X_cal_cp    = build_X_(DF.loc[idx_cal_cp],   item_cols, static_cols, n)\n",
    "        X_cal_gate  = build_X_(DF.loc[idx_cal_gate], item_cols, static_cols, n)\n",
    "        X_test      = build_X_(DF.loc[idx_test],     item_cols, static_cols, n)\n",
    "        # 3) train base clf + calibrate for MCP\n",
    "        clf = clone(base_clf)\n",
    "        clf.fit(X_tr, y_tr)\n",
    "        calib = CalibratedClassifierCV(clf, cv=\"prefit\", method=\"sigmoid\") \\\n",
    "                    .fit(X_cal_cp, y_cal_cp)\n",
    "\n",
    "        base_mapie = MapieClassifier(estimator=calib, method=\"lac\", cv=\"prefit\")\n",
    "        mond_mapie = MondrianCP(mapie_estimator=base_mapie) \\\n",
    "                        .fit(X_cal_cp, y_cal_cp, partition=cl_cal_cp)\n",
    "\n",
    "        # ---- MCP on TEST ----\n",
    "        _, yps_van_test = mond_mapie.predict(X_test, alpha=ALPHA, partition=cl_test)\n",
    "        pset_van_test = yps_van_test[:, :, 0]\n",
    "        cov_van = classification_coverage_score(y_test[mask_real], pset_van_test[mask_real])\n",
    "        wid_van = classification_mean_width_score(pset_van_test[mask_real])\n",
    "        covs_MCP.append(cov_van)\n",
    "        width_MCP.append(wid_van)\n",
    "        print(\"MCP\", cov_van, wid_van)\n",
    "        # ---- SPCI on TEST ----\n",
    "        model_spci = loaded_models[n - W]\n",
    "        pos_test   = DF.index.get_indexer(idx_test)\n",
    "        X_spci_test = X_array_hori[n - W + 1][pos_test]\n",
    "        intervals = [model_spci.predict_interval(x.reshape(1, -1))\n",
    "                     for x in X_spci_test]\n",
    "        L_preds, U_preds = zip(*intervals)\n",
    "\n",
    "        y_pred_bool_SPCI = np.zeros((len(intervals), 2), dtype=bool)\n",
    "        for i, (L, U) in enumerate(zip(L_preds, U_preds)):\n",
    "            if threshold > U:\n",
    "                y_pred_bool_SPCI[i, 1] = True\n",
    "            elif threshold < L:\n",
    "                y_pred_bool_SPCI[i, 0] = True\n",
    "            else:\n",
    "                y_pred_bool_SPCI[i, :] = True\n",
    "\n",
    "        cov_spci = classification_coverage_score(y_test[mask_real],\n",
    "                                                y_pred_bool_SPCI[mask_real])\n",
    "        wid_spci = classification_mean_width_score(y_pred_bool_SPCI[mask_real])\n",
    "        covs_SPCI.append(cov_spci)\n",
    "        width_SPCI.append(wid_spci)\n",
    "        print(\"SPCI\", cov_spci, wid_spci)\n",
    "        ##UNION \n",
    "        y_pred_bool_MCP = pset_van_test.astype(bool)\n",
    "        y_bool_union = y_pred_bool_MCP | y_pred_bool_SPCI\n",
    "        cov_union = classification_coverage_score(\n",
    "            y_test[mask_real],\n",
    "            y_bool_union[mask_real]\n",
    "        )\n",
    "        wid_union = classification_mean_width_score(\n",
    "            y_bool_union[mask_real]\n",
    "        )\n",
    "        covs_union.append(cov_union)\n",
    "        width_union.append(wid_union)\n",
    "        print(\"UNION :\", cov_union, wid_union)\n",
    "\n",
    "        # ---- construire la gate sur CAL_GATE ----\n",
    "        #  a) MCP predictions sur X_cal_gate\n",
    "        _, yps_van_gate = mond_mapie.predict(\n",
    "            X_cal_gate, alpha=ALPHA, partition=cl_cal_gate\n",
    "        )\n",
    "        pset_cal_cls = yps_van_gate[:, :, 0]\n",
    "\n",
    "        #  b) SPCI predictions sur X_cal_gate\n",
    "        pos_cal_gate  = DF.index.get_indexer(idx_cal_gate)\n",
    "        X_spci_cal    = X_array_hori[n - W + 1][pos_cal_gate]\n",
    "        intervals_cal = [model_spci.predict_interval(x.reshape(1, -1))\n",
    "                         for x in X_spci_cal]\n",
    "        L_cal, U_cal  = zip(*intervals_cal)\n",
    "\n",
    "        pset_cal_spc = np.zeros_like(pset_cal_cls, dtype=bool)\n",
    "        for i, (L, U) in enumerate(zip(L_cal, U_cal)):\n",
    "            if threshold > U:\n",
    "                pset_cal_spc[i, 1] = True\n",
    "            elif threshold < L:\n",
    "                pset_cal_spc[i, 0] = True\n",
    "            else:\n",
    "                pset_cal_spc[i, :] = True\n",
    "\n",
    "        #  c) préparer méta-features & labels pour la gate\n",
    "        df_sel_arr = []\n",
    "        labels_g   = []                      # ← on initialise labels_g\n",
    "\n",
    "        for i in range(len(idx_cal_gate)):\n",
    "            feat_vec = X_cal_gate[i]\n",
    "            w_cls    = pset_cal_cls[i].sum()\n",
    "            w_spc    = pset_cal_spc[i].sum()\n",
    "            diff     = w_cls - w_spc\n",
    "            err_cls  = int(y_cal_gate[i] not in np.where(pset_cal_cls[i])[0])\n",
    "            err_spc  = int(y_cal_gate[i] not in np.where(pset_cal_spc[i])[0])\n",
    "            if   err_cls == 0 and err_spc == 1:\n",
    "                gate_y = 0\n",
    "            elif err_spc == 0 and err_cls == 1:\n",
    "                gate_y = 1\n",
    "            elif err_cls == 0 and err_spc == 0:\n",
    "                gate_y = 0 if w_cls < w_spc else 1\n",
    "            else:\n",
    "                gate_y = 2\n",
    "            labels_g.append(gate_y)           # ← on stocke le label\n",
    "\n",
    "            meta_vec = np.concatenate([\n",
    "                 feat_vec,\n",
    "                 [w_cls, w_spc, diff, err_cls, err_spc]\n",
    "            ])\n",
    "            df_sel_arr.append(meta_vec)\n",
    "\n",
    "        X_gate_train = np.vstack(df_sel_arr)\n",
    "        gate_clf.fit(X_gate_train, np.array(labels_g))\n",
    "        # ---- appliquer la gate sur TEST ----\n",
    "        meta_test_arr = []\n",
    "        for i in range(len(idx_test)):\n",
    "            # feat_vec est un array 1D de taille n_features\n",
    "            feat_vec = X_test[i]\n",
    "            w_cls = pset_van_test[i].sum()\n",
    "            w_spc = y_pred_bool_SPCI[i].sum()\n",
    "            diff = w_cls - w_spc\n",
    "            # on concatène feat_vec et les 5 features méta\n",
    "            meta_vec = np.concatenate([\n",
    "                feat_vec,\n",
    "                [w_cls, w_spc, diff, 0, 0]    # err_cls=0, err_spc=0\n",
    "            ])\n",
    "            meta_test_arr.append(meta_vec)\n",
    "\n",
    "        # on empile en matrice (n_test × n_features_meta)\n",
    "        X_gate_test = np.vstack(meta_test_arr)\n",
    "\n",
    "        # on prédit le choix de la gate\n",
    "        choices = gate_clf.predict(X_gate_test)\n",
    "        pset_final = np.zeros_like(pset_van_test, dtype=bool)\n",
    "        for i, choice in enumerate(choices):\n",
    "            if choice == 0:\n",
    "                pset_final[i] = y_pred_bool_MCP[i]\n",
    "            elif choice == 1:\n",
    "                pset_final[i] = y_pred_bool_SPCI[i]\n",
    "            else:\n",
    "                pset_final[i] = y_pred_bool_MCP[i] | y_pred_bool_SPCI[i]\n",
    "\n",
    "        cov_c = classification_coverage_score(y_test[mask_real],\n",
    "                                             pset_final[mask_real])\n",
    "        wid_c = classification_mean_width_score(pset_final[mask_real])\n",
    "        covs_comb.append(cov_c)\n",
    "        width_comb.append(wid_c)\n",
    "        print(\"COMBINED\", cov_c, wid_c)\n",
    "    # on agrège les métriques\n",
    "    n_vals = list(range(W, W + len(covs_MCP)))\n",
    "    df_metrics = pd.DataFrame({\n",
    "        \"model\":             [name] * len(n_vals),\n",
    "        \"n\":                 n_vals,\n",
    "        \"coverage_MCP\":      covs_MCP,\n",
    "        \"width_MCP\":         width_MCP,\n",
    "        \"coverage_SPCI\":     covs_SPCI,\n",
    "        \"width_SPCI\":        width_SPCI,\n",
    "        \"coverage_union\":    covs_union, \n",
    "        \"width_union\":       width_union,\n",
    "        \"coverage_combined\": covs_comb,\n",
    "        \"width_combined\":    width_comb,\n",
    "    })\n",
    "    res_fin_port.append(df_metrics)\n"
   ]
  },
  {
   "cell_type": "code",
   "execution_count": 56,
   "id": "4ebec929",
   "metadata": {},
   "outputs": [
    {
     "data": {
      "text/plain": [
       "n                    26.000000\n",
       "coverage_MCP          0.917479\n",
       "width_MCP             1.388222\n",
       "coverage_SPCI         0.805514\n",
       "width_SPCI            1.551388\n",
       "coverage_union        0.976932\n",
       "width_union           1.831020\n",
       "coverage_combined     0.771380\n",
       "width_combined        1.213053\n",
       "dtype: float64"
      ]
     },
     "execution_count": 56,
     "metadata": {},
     "output_type": "execute_result"
    }
   ],
   "source": [
    "res_fin_port[0].iloc[:,1:].mean()"
   ]
  },
  {
   "cell_type": "code",
   "execution_count": 57,
   "id": "f009fa11",
   "metadata": {},
   "outputs": [
    {
     "data": {
      "text/plain": [
       "n                    26.000000\n",
       "coverage_MCP          0.941110\n",
       "width_MCP             1.451425\n",
       "coverage_SPCI         0.805514\n",
       "width_SPCI            1.551388\n",
       "coverage_union        0.989122\n",
       "width_union           1.846774\n",
       "coverage_combined     0.782821\n",
       "width_combined        1.259752\n",
       "dtype: float64"
      ]
     },
     "execution_count": 57,
     "metadata": {},
     "output_type": "execute_result"
    }
   ],
   "source": [
    "res_fin_port[2].iloc[:,1:].mean()"
   ]
  }
 ],
 "metadata": {
  "kernelspec": {
   "display_name": "base",
   "language": "python",
   "name": "python3"
  },
  "language_info": {
   "codemirror_mode": {
    "name": "ipython",
    "version": 3
   },
   "file_extension": ".py",
   "mimetype": "text/x-python",
   "name": "python",
   "nbconvert_exporter": "python",
   "pygments_lexer": "ipython3",
   "version": "3.12.7"
  }
 },
 "nbformat": 4,
 "nbformat_minor": 5
}
